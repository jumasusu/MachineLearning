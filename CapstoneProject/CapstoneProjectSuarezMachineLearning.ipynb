{
 "cells": [
  {
   "cell_type": "markdown",
   "metadata": {},
   "source": [
    "Este Data Set es el obtenido en el trabajo del parcial"
   ]
  },
  {
   "cell_type": "code",
   "execution_count": 1,
   "metadata": {},
   "outputs": [
    {
     "data": {
      "text/html": [
       "<style>.container{ width:100% }</style>"
      ],
      "text/plain": [
       "<IPython.core.display.HTML object>"
      ]
     },
     "metadata": {},
     "output_type": "display_data"
    }
   ],
   "source": [
    "# Permite ajustar la anchura de la parte útil de la libreta (reduce los márgenes)\n",
    "from IPython.core.display import display, HTML\n",
    "display(HTML(\"<style>.container{ width:100% }</style>\"))"
   ]
  },
  {
   "cell_type": "code",
   "execution_count": 2,
   "metadata": {},
   "outputs": [],
   "source": [
    "# Importar las librerías que se utilizarán en vuestro proyecto Capstone\n",
    "import pandas as pd\n",
    "import numpy as np\n",
    "import matplotlib.pyplot as plt\n",
    "import seaborn as sns\n",
    "import warnings\n",
    "import re\n",
    "import json\n",
    "import math\n",
    "import pylab as pl\n",
    "from ast import literal_eval#Para pasara de string a list. Eleimnar los \"\".\n",
    "import scipy as scp #Para el test de Shapiro Wilks\n",
    "import random #Para obtener unos elementos al azar de una lista\n",
    "import statistics #Para la media de una lista\n",
    "# warnings.filterwarnings('ignore')"
   ]
  },
  {
   "cell_type": "code",
   "execution_count": 3,
   "metadata": {},
   "outputs": [],
   "source": [
    "from sklearn.ensemble import RandomForestRegressor\n",
    "from sklearn.metrics import mean_absolute_error\n",
    "from sklearn.metrics import r2_score\n",
    "from sklearn.linear_model import LinearRegression"
   ]
  },
  {
   "cell_type": "code",
   "execution_count": null,
   "metadata": {},
   "outputs": [],
   "source": []
  },
  {
   "cell_type": "code",
   "execution_count": 4,
   "metadata": {},
   "outputs": [],
   "source": [
    "\n",
    "df=pd.read_csv(\"df_movie_limpio.csv\")"
   ]
  },
  {
   "cell_type": "code",
   "execution_count": 5,
   "metadata": {
    "scrolled": true
   },
   "outputs": [
    {
     "data": {
      "text/html": [
       "<div>\n",
       "<style scoped>\n",
       "    .dataframe tbody tr th:only-of-type {\n",
       "        vertical-align: middle;\n",
       "    }\n",
       "\n",
       "    .dataframe tbody tr th {\n",
       "        vertical-align: top;\n",
       "    }\n",
       "\n",
       "    .dataframe thead th {\n",
       "        text-align: right;\n",
       "    }\n",
       "</style>\n",
       "<table border=\"1\" class=\"dataframe\">\n",
       "  <thead>\n",
       "    <tr style=\"text-align: right;\">\n",
       "      <th></th>\n",
       "      <th>imdbId</th>\n",
       "      <th>adult</th>\n",
       "      <th>budget</th>\n",
       "      <th>homepage</th>\n",
       "      <th>original_language</th>\n",
       "      <th>original_title</th>\n",
       "      <th>overview</th>\n",
       "      <th>popularity</th>\n",
       "      <th>poster_path</th>\n",
       "      <th>release_date</th>\n",
       "      <th>...</th>\n",
       "      <th>generos_desenvuelto</th>\n",
       "      <th>paises_de_produccion_desenvuelto</th>\n",
       "      <th>lenguas_habladas_desenvuelto</th>\n",
       "      <th>coleccion_desenvuelto</th>\n",
       "      <th>movieId</th>\n",
       "      <th>tmdbId</th>\n",
       "      <th>rating</th>\n",
       "      <th>elenco</th>\n",
       "      <th>director</th>\n",
       "      <th>years</th>\n",
       "    </tr>\n",
       "  </thead>\n",
       "  <tbody>\n",
       "    <tr>\n",
       "      <th>0</th>\n",
       "      <td>114709</td>\n",
       "      <td>True</td>\n",
       "      <td>30000000.0</td>\n",
       "      <td>http://toystory.disney.com/toy-story</td>\n",
       "      <td>en</td>\n",
       "      <td>Toy Story</td>\n",
       "      <td>Led by Woody, Andy's toys live happily in his ...</td>\n",
       "      <td>21.946943</td>\n",
       "      <td>/rhIRbceoE9lR4veEXuwCC2wARtG.jpg</td>\n",
       "      <td>1995-10-30</td>\n",
       "      <td>...</td>\n",
       "      <td>['Animation', 'Comedy', 'Family']</td>\n",
       "      <td>['United States of America']</td>\n",
       "      <td>['English']</td>\n",
       "      <td>Toy Story Collection</td>\n",
       "      <td>1</td>\n",
       "      <td>862.0</td>\n",
       "      <td>3.888157</td>\n",
       "      <td>['Tom Hanks', 'Tim Allen', 'Don Rickles']</td>\n",
       "      <td>John Lasseter</td>\n",
       "      <td>1995.0</td>\n",
       "    </tr>\n",
       "    <tr>\n",
       "      <th>1</th>\n",
       "      <td>113497</td>\n",
       "      <td>True</td>\n",
       "      <td>65000000.0</td>\n",
       "      <td>NaN</td>\n",
       "      <td>en</td>\n",
       "      <td>Jumanji</td>\n",
       "      <td>When siblings Judy and Peter discover an encha...</td>\n",
       "      <td>17.015539</td>\n",
       "      <td>/vzmL6fP7aPKNKPRTFnZmiUfciyV.jpg</td>\n",
       "      <td>1995-12-15</td>\n",
       "      <td>...</td>\n",
       "      <td>['Adventure', 'Fantasy', 'Family']</td>\n",
       "      <td>['United States of America']</td>\n",
       "      <td>['English', 'Français']</td>\n",
       "      <td>NaN</td>\n",
       "      <td>2</td>\n",
       "      <td>8844.0</td>\n",
       "      <td>3.236953</td>\n",
       "      <td>['Robin Williams', 'Jonathan Hyde', 'Kirsten D...</td>\n",
       "      <td>Joe Johnston</td>\n",
       "      <td>1995.0</td>\n",
       "    </tr>\n",
       "  </tbody>\n",
       "</table>\n",
       "<p>2 rows × 29 columns</p>\n",
       "</div>"
      ],
      "text/plain": [
       "   imdbId  adult      budget                              homepage  \\\n",
       "0  114709   True  30000000.0  http://toystory.disney.com/toy-story   \n",
       "1  113497   True  65000000.0                                   NaN   \n",
       "\n",
       "  original_language original_title  \\\n",
       "0                en      Toy Story   \n",
       "1                en        Jumanji   \n",
       "\n",
       "                                            overview  popularity  \\\n",
       "0  Led by Woody, Andy's toys live happily in his ...   21.946943   \n",
       "1  When siblings Judy and Peter discover an encha...   17.015539   \n",
       "\n",
       "                        poster_path release_date  ...  \\\n",
       "0  /rhIRbceoE9lR4veEXuwCC2wARtG.jpg   1995-10-30  ...   \n",
       "1  /vzmL6fP7aPKNKPRTFnZmiUfciyV.jpg   1995-12-15  ...   \n",
       "\n",
       "                  generos_desenvuelto  paises_de_produccion_desenvuelto  \\\n",
       "0   ['Animation', 'Comedy', 'Family']      ['United States of America']   \n",
       "1  ['Adventure', 'Fantasy', 'Family']      ['United States of America']   \n",
       "\n",
       "  lenguas_habladas_desenvuelto coleccion_desenvuelto movieId  tmdbId  \\\n",
       "0                  ['English']  Toy Story Collection       1   862.0   \n",
       "1      ['English', 'Français']                   NaN       2  8844.0   \n",
       "\n",
       "     rating                                             elenco       director  \\\n",
       "0  3.888157          ['Tom Hanks', 'Tim Allen', 'Don Rickles']  John Lasseter   \n",
       "1  3.236953  ['Robin Williams', 'Jonathan Hyde', 'Kirsten D...   Joe Johnston   \n",
       "\n",
       "    years  \n",
       "0  1995.0  \n",
       "1  1995.0  \n",
       "\n",
       "[2 rows x 29 columns]"
      ]
     },
     "execution_count": 5,
     "metadata": {},
     "output_type": "execute_result"
    }
   ],
   "source": [
    "df.head(2)#Mostrando unos datos\n",
    "#Ver al final que elenco esta como una lista. Esto debemos de resolver"
   ]
  },
  {
   "cell_type": "code",
   "execution_count": 6,
   "metadata": {},
   "outputs": [
    {
     "name": "stdout",
     "output_type": "stream",
     "text": [
      "<class 'pandas.core.frame.DataFrame'>\n",
      "RangeIndex: 44634 entries, 0 to 44633\n",
      "Data columns (total 29 columns):\n",
      "imdbId                              44634 non-null int64\n",
      "adult                               44634 non-null bool\n",
      "budget                              44634 non-null float64\n",
      "homepage                            7688 non-null object\n",
      "original_language                   44623 non-null object\n",
      "original_title                      44634 non-null object\n",
      "overview                            43699 non-null object\n",
      "popularity                          44634 non-null float64\n",
      "poster_path                         44272 non-null object\n",
      "release_date                        44558 non-null object\n",
      "revenue                             44634 non-null float64\n",
      "runtime                             44382 non-null float64\n",
      "status                              44556 non-null object\n",
      "tagline                             20068 non-null object\n",
      "title                               44634 non-null object\n",
      "video                               44634 non-null bool\n",
      "vote_average                        44634 non-null float64\n",
      "vote_count                          44634 non-null float64\n",
      "production_companies_abierto        44598 non-null object\n",
      "generos_desenvuelto                 44598 non-null object\n",
      "paises_de_produccion_desenvuelto    44598 non-null object\n",
      "lenguas_habladas_desenvuelto        44598 non-null object\n",
      "coleccion_desenvuelto               4422 non-null object\n",
      "movieId                             44634 non-null int64\n",
      "tmdbId                              44634 non-null float64\n",
      "rating                              44634 non-null float64\n",
      "elenco                              44634 non-null object\n",
      "director                            43780 non-null object\n",
      "years                               44558 non-null float64\n",
      "dtypes: bool(2), float64(9), int64(2), object(16)\n",
      "memory usage: 9.3+ MB\n"
     ]
    }
   ],
   "source": [
    "df.info()"
   ]
  },
  {
   "cell_type": "markdown",
   "metadata": {},
   "source": [
    "# Obejtivo\n",
    "-Predecir cuánto es que va a ganar una película (variable continua) \"revenue\".\n",
    "\n",
    "-Predecir a qué tiempo de género pertenece una película.\n",
    "\n",
    "-Realizar un agrupamiento por clúster (aprendizaje NO supervisado)"
   ]
  },
  {
   "cell_type": "markdown",
   "metadata": {},
   "source": [
    "# Prediciendo variable continua \"revenue\" (ingresos)"
   ]
  },
  {
   "cell_type": "markdown",
   "metadata": {},
   "source": [
    "Para presdecir una variable continua en 1er lugar tenener que ver cuales son las variables (columnas) que se van a tomar: Algunas de las variables que no aportan a la predicción de revenue son:\n",
    "\n",
    "-imdbId: ya que es un ordenamiento que da la página.\n",
    "-homepage: ya que es solo el lugar donde vive la página de la película.\n",
    "\n",
    "-original_title: Para c/ pelícual este es un valor distinto.\n",
    "\n",
    "-overview: decir de qué trata c/ película también no aporta.\n",
    "\n",
    "-poster_path: no aporta la imagen de una película.\n",
    "\n",
    "-tagline: El lema no aporta ya que solo son palabras.\n",
    "\n",
    "-title: Por el mismo motivo que original_title.\n",
    "\n",
    "-video: Noa porta.\n",
    "\n",
    "-coleccion_desenvuelto\n",
    "\n",
    "-movieId\n",
    "\n",
    "-tmdbId\n",
    "    "
   ]
  },
  {
   "cell_type": "markdown",
   "metadata": {},
   "source": [
    "Primero a los atributos que están como una lista y que en su interior tienen uno o más elementos, tomaremos el 1ro\n",
    "que es el más importante, por ejemplo en el género de la película \"Toy Story\" ['Animation', 'Comedy', 'Family'], solo\n",
    "seleccionamos la 1ra: Animation y así sucesivamente con los otros atributos. Igual se puede tener un error al hacer esto ya que puede que el género más resaltante no sea el 1ro, pero asumamos que es así. "
   ]
  },
  {
   "cell_type": "code",
   "execution_count": 7,
   "metadata": {},
   "outputs": [],
   "source": [
    "colum_que_faltan_abrir=[\"production_companies_abierto\",\"generos_desenvuelto\",\"paises_de_produccion_desenvuelto\",\n",
    "                       \"lenguas_habladas_desenvuelto\",\"elenco\"]#Son las columnas que estan como una lista y debemos\n",
    "                                                                #de extraer el 1er elemento"
   ]
  },
  {
   "cell_type": "code",
   "execution_count": 8,
   "metadata": {},
   "outputs": [],
   "source": [
    "# m1=[[None]*5]*3#columna, fila;\n",
    "matrix=[[None]*len(colum_que_faltan_abrir)]*len(df.index)\n",
    "matrix=np.array(matrix)\n",
    "# matrix[1,2]=23;"
   ]
  },
  {
   "cell_type": "markdown",
   "metadata": {},
   "source": [
    "Un ejemplo de cómo es que se extra el 1er elemento de un objeto que en realidad es una lista (para pasara de objeto a lista se usa \"literal_eval\")"
   ]
  },
  {
   "cell_type": "code",
   "execution_count": 9,
   "metadata": {},
   "outputs": [
    {
     "data": {
      "text/plain": [
       "'Comedy'"
      ]
     },
     "execution_count": 9,
     "metadata": {},
     "output_type": "execute_result"
    }
   ],
   "source": [
    "df[colum_que_faltan_abrir[1]]\n",
    "li_ge=[None]*(len(df.index))\n",
    "#print(sys.getsizeof(li_ge))#Esto es el peso en bytes,357136\n",
    "df[colum_que_faltan_abrir[1]][1]#en colum_que_faltan_abrir, en len(df.index)\n",
    "literal_eval(df[colum_que_faltan_abrir[1]][3])[0]"
   ]
  },
  {
   "cell_type": "code",
   "execution_count": 10,
   "metadata": {},
   "outputs": [],
   "source": [
    "for i in range(len(colum_que_faltan_abrir)):#Función que me extrae el 1er elemento de cada lista\n",
    "    for j in range(len(df.index)):\n",
    "        try:#Se hace el usao de Try/Except ya que hay valores perdidos\n",
    "            matrix[j,i]=literal_eval(df[colum_que_faltan_abrir[i]][j])[0]\n",
    "        except:\n",
    "            pass"
   ]
  },
  {
   "cell_type": "markdown",
   "metadata": {},
   "source": [
    "Este ya contiene solo el 1er elemento de cada lista."
   ]
  },
  {
   "cell_type": "code",
   "execution_count": 11,
   "metadata": {},
   "outputs": [
    {
     "data": {
      "text/html": [
       "<div>\n",
       "<style scoped>\n",
       "    .dataframe tbody tr th:only-of-type {\n",
       "        vertical-align: middle;\n",
       "    }\n",
       "\n",
       "    .dataframe tbody tr th {\n",
       "        vertical-align: top;\n",
       "    }\n",
       "\n",
       "    .dataframe thead th {\n",
       "        text-align: right;\n",
       "    }\n",
       "</style>\n",
       "<table border=\"1\" class=\"dataframe\">\n",
       "  <thead>\n",
       "    <tr style=\"text-align: right;\">\n",
       "      <th></th>\n",
       "      <th>production_companies_abierto</th>\n",
       "      <th>generos_desenvuelto</th>\n",
       "      <th>paises_de_produccion_desenvuelto</th>\n",
       "      <th>lenguas_habladas_desenvuelto</th>\n",
       "      <th>elenco</th>\n",
       "    </tr>\n",
       "  </thead>\n",
       "  <tbody>\n",
       "    <tr>\n",
       "      <th>0</th>\n",
       "      <td>Pixar Animation Studios</td>\n",
       "      <td>Animation</td>\n",
       "      <td>United States of America</td>\n",
       "      <td>English</td>\n",
       "      <td>Tom Hanks</td>\n",
       "    </tr>\n",
       "    <tr>\n",
       "      <th>1</th>\n",
       "      <td>TriStar Pictures</td>\n",
       "      <td>Adventure</td>\n",
       "      <td>United States of America</td>\n",
       "      <td>English</td>\n",
       "      <td>Robin Williams</td>\n",
       "    </tr>\n",
       "  </tbody>\n",
       "</table>\n",
       "</div>"
      ],
      "text/plain": [
       "  production_companies_abierto generos_desenvuelto  \\\n",
       "0      Pixar Animation Studios           Animation   \n",
       "1             TriStar Pictures           Adventure   \n",
       "\n",
       "  paises_de_produccion_desenvuelto lenguas_habladas_desenvuelto  \\\n",
       "0         United States of America                      English   \n",
       "1         United States of America                      English   \n",
       "\n",
       "           elenco  \n",
       "0       Tom Hanks  \n",
       "1  Robin Williams  "
      ]
     },
     "execution_count": 11,
     "metadata": {},
     "output_type": "execute_result"
    }
   ],
   "source": [
    "df_matrix=pd.DataFrame(matrix)\n",
    "df_matrix.columns=colum_que_faltan_abrir\n",
    "df_matrix.head(2)"
   ]
  },
  {
   "cell_type": "code",
   "execution_count": 12,
   "metadata": {},
   "outputs": [],
   "source": [
    "df.drop(colum_que_faltan_abrir,axis=1,inplace=True)#Retiro todas esas columnas que están como una lista"
   ]
  },
  {
   "cell_type": "code",
   "execution_count": 13,
   "metadata": {},
   "outputs": [
    {
     "data": {
      "text/html": [
       "<div>\n",
       "<style scoped>\n",
       "    .dataframe tbody tr th:only-of-type {\n",
       "        vertical-align: middle;\n",
       "    }\n",
       "\n",
       "    .dataframe tbody tr th {\n",
       "        vertical-align: top;\n",
       "    }\n",
       "\n",
       "    .dataframe thead th {\n",
       "        text-align: right;\n",
       "    }\n",
       "</style>\n",
       "<table border=\"1\" class=\"dataframe\">\n",
       "  <thead>\n",
       "    <tr style=\"text-align: right;\">\n",
       "      <th></th>\n",
       "      <th>imdbId</th>\n",
       "      <th>adult</th>\n",
       "      <th>budget</th>\n",
       "      <th>homepage</th>\n",
       "      <th>original_language</th>\n",
       "      <th>original_title</th>\n",
       "      <th>overview</th>\n",
       "      <th>popularity</th>\n",
       "      <th>poster_path</th>\n",
       "      <th>release_date</th>\n",
       "      <th>...</th>\n",
       "      <th>title</th>\n",
       "      <th>video</th>\n",
       "      <th>vote_average</th>\n",
       "      <th>vote_count</th>\n",
       "      <th>coleccion_desenvuelto</th>\n",
       "      <th>movieId</th>\n",
       "      <th>tmdbId</th>\n",
       "      <th>rating</th>\n",
       "      <th>director</th>\n",
       "      <th>years</th>\n",
       "    </tr>\n",
       "  </thead>\n",
       "  <tbody>\n",
       "    <tr>\n",
       "      <th>0</th>\n",
       "      <td>114709</td>\n",
       "      <td>True</td>\n",
       "      <td>30000000.0</td>\n",
       "      <td>http://toystory.disney.com/toy-story</td>\n",
       "      <td>en</td>\n",
       "      <td>Toy Story</td>\n",
       "      <td>Led by Woody, Andy's toys live happily in his ...</td>\n",
       "      <td>21.946943</td>\n",
       "      <td>/rhIRbceoE9lR4veEXuwCC2wARtG.jpg</td>\n",
       "      <td>1995-10-30</td>\n",
       "      <td>...</td>\n",
       "      <td>Toy Story</td>\n",
       "      <td>False</td>\n",
       "      <td>7.7</td>\n",
       "      <td>5415.0</td>\n",
       "      <td>Toy Story Collection</td>\n",
       "      <td>1</td>\n",
       "      <td>862.0</td>\n",
       "      <td>3.888157</td>\n",
       "      <td>John Lasseter</td>\n",
       "      <td>1995.0</td>\n",
       "    </tr>\n",
       "    <tr>\n",
       "      <th>1</th>\n",
       "      <td>113497</td>\n",
       "      <td>True</td>\n",
       "      <td>65000000.0</td>\n",
       "      <td>NaN</td>\n",
       "      <td>en</td>\n",
       "      <td>Jumanji</td>\n",
       "      <td>When siblings Judy and Peter discover an encha...</td>\n",
       "      <td>17.015539</td>\n",
       "      <td>/vzmL6fP7aPKNKPRTFnZmiUfciyV.jpg</td>\n",
       "      <td>1995-12-15</td>\n",
       "      <td>...</td>\n",
       "      <td>Jumanji</td>\n",
       "      <td>False</td>\n",
       "      <td>6.9</td>\n",
       "      <td>2413.0</td>\n",
       "      <td>NaN</td>\n",
       "      <td>2</td>\n",
       "      <td>8844.0</td>\n",
       "      <td>3.236953</td>\n",
       "      <td>Joe Johnston</td>\n",
       "      <td>1995.0</td>\n",
       "    </tr>\n",
       "  </tbody>\n",
       "</table>\n",
       "<p>2 rows × 24 columns</p>\n",
       "</div>"
      ],
      "text/plain": [
       "   imdbId  adult      budget                              homepage  \\\n",
       "0  114709   True  30000000.0  http://toystory.disney.com/toy-story   \n",
       "1  113497   True  65000000.0                                   NaN   \n",
       "\n",
       "  original_language original_title  \\\n",
       "0                en      Toy Story   \n",
       "1                en        Jumanji   \n",
       "\n",
       "                                            overview  popularity  \\\n",
       "0  Led by Woody, Andy's toys live happily in his ...   21.946943   \n",
       "1  When siblings Judy and Peter discover an encha...   17.015539   \n",
       "\n",
       "                        poster_path release_date  ...      title  video  \\\n",
       "0  /rhIRbceoE9lR4veEXuwCC2wARtG.jpg   1995-10-30  ...  Toy Story  False   \n",
       "1  /vzmL6fP7aPKNKPRTFnZmiUfciyV.jpg   1995-12-15  ...    Jumanji  False   \n",
       "\n",
       "  vote_average vote_count coleccion_desenvuelto  movieId  tmdbId    rating  \\\n",
       "0          7.7     5415.0  Toy Story Collection        1   862.0  3.888157   \n",
       "1          6.9     2413.0                   NaN        2  8844.0  3.236953   \n",
       "\n",
       "        director   years  \n",
       "0  John Lasseter  1995.0  \n",
       "1   Joe Johnston  1995.0  \n",
       "\n",
       "[2 rows x 24 columns]"
      ]
     },
     "execution_count": 13,
     "metadata": {},
     "output_type": "execute_result"
    }
   ],
   "source": [
    "df.head(2)"
   ]
  },
  {
   "cell_type": "code",
   "execution_count": 14,
   "metadata": {},
   "outputs": [],
   "source": [
    "df=pd.concat([df,df_matrix], axis=1)#Ahora concateno con los datos que ya tienen el 1er elemento de cada lista."
   ]
  },
  {
   "cell_type": "markdown",
   "metadata": {},
   "source": [
    "Mi df que solo contien elementos y ya no listas."
   ]
  },
  {
   "cell_type": "code",
   "execution_count": 15,
   "metadata": {},
   "outputs": [
    {
     "data": {
      "text/html": [
       "<div>\n",
       "<style scoped>\n",
       "    .dataframe tbody tr th:only-of-type {\n",
       "        vertical-align: middle;\n",
       "    }\n",
       "\n",
       "    .dataframe tbody tr th {\n",
       "        vertical-align: top;\n",
       "    }\n",
       "\n",
       "    .dataframe thead th {\n",
       "        text-align: right;\n",
       "    }\n",
       "</style>\n",
       "<table border=\"1\" class=\"dataframe\">\n",
       "  <thead>\n",
       "    <tr style=\"text-align: right;\">\n",
       "      <th></th>\n",
       "      <th>imdbId</th>\n",
       "      <th>adult</th>\n",
       "      <th>budget</th>\n",
       "      <th>homepage</th>\n",
       "      <th>original_language</th>\n",
       "      <th>original_title</th>\n",
       "      <th>overview</th>\n",
       "      <th>popularity</th>\n",
       "      <th>poster_path</th>\n",
       "      <th>release_date</th>\n",
       "      <th>...</th>\n",
       "      <th>movieId</th>\n",
       "      <th>tmdbId</th>\n",
       "      <th>rating</th>\n",
       "      <th>director</th>\n",
       "      <th>years</th>\n",
       "      <th>production_companies_abierto</th>\n",
       "      <th>generos_desenvuelto</th>\n",
       "      <th>paises_de_produccion_desenvuelto</th>\n",
       "      <th>lenguas_habladas_desenvuelto</th>\n",
       "      <th>elenco</th>\n",
       "    </tr>\n",
       "  </thead>\n",
       "  <tbody>\n",
       "    <tr>\n",
       "      <th>0</th>\n",
       "      <td>114709</td>\n",
       "      <td>True</td>\n",
       "      <td>30000000.0</td>\n",
       "      <td>http://toystory.disney.com/toy-story</td>\n",
       "      <td>en</td>\n",
       "      <td>Toy Story</td>\n",
       "      <td>Led by Woody, Andy's toys live happily in his ...</td>\n",
       "      <td>21.946943</td>\n",
       "      <td>/rhIRbceoE9lR4veEXuwCC2wARtG.jpg</td>\n",
       "      <td>1995-10-30</td>\n",
       "      <td>...</td>\n",
       "      <td>1</td>\n",
       "      <td>862.0</td>\n",
       "      <td>3.888157</td>\n",
       "      <td>John Lasseter</td>\n",
       "      <td>1995.0</td>\n",
       "      <td>Pixar Animation Studios</td>\n",
       "      <td>Animation</td>\n",
       "      <td>United States of America</td>\n",
       "      <td>English</td>\n",
       "      <td>Tom Hanks</td>\n",
       "    </tr>\n",
       "    <tr>\n",
       "      <th>1</th>\n",
       "      <td>113497</td>\n",
       "      <td>True</td>\n",
       "      <td>65000000.0</td>\n",
       "      <td>NaN</td>\n",
       "      <td>en</td>\n",
       "      <td>Jumanji</td>\n",
       "      <td>When siblings Judy and Peter discover an encha...</td>\n",
       "      <td>17.015539</td>\n",
       "      <td>/vzmL6fP7aPKNKPRTFnZmiUfciyV.jpg</td>\n",
       "      <td>1995-12-15</td>\n",
       "      <td>...</td>\n",
       "      <td>2</td>\n",
       "      <td>8844.0</td>\n",
       "      <td>3.236953</td>\n",
       "      <td>Joe Johnston</td>\n",
       "      <td>1995.0</td>\n",
       "      <td>TriStar Pictures</td>\n",
       "      <td>Adventure</td>\n",
       "      <td>United States of America</td>\n",
       "      <td>English</td>\n",
       "      <td>Robin Williams</td>\n",
       "    </tr>\n",
       "  </tbody>\n",
       "</table>\n",
       "<p>2 rows × 29 columns</p>\n",
       "</div>"
      ],
      "text/plain": [
       "   imdbId  adult      budget                              homepage  \\\n",
       "0  114709   True  30000000.0  http://toystory.disney.com/toy-story   \n",
       "1  113497   True  65000000.0                                   NaN   \n",
       "\n",
       "  original_language original_title  \\\n",
       "0                en      Toy Story   \n",
       "1                en        Jumanji   \n",
       "\n",
       "                                            overview  popularity  \\\n",
       "0  Led by Woody, Andy's toys live happily in his ...   21.946943   \n",
       "1  When siblings Judy and Peter discover an encha...   17.015539   \n",
       "\n",
       "                        poster_path release_date  ...  movieId  tmdbId  \\\n",
       "0  /rhIRbceoE9lR4veEXuwCC2wARtG.jpg   1995-10-30  ...        1   862.0   \n",
       "1  /vzmL6fP7aPKNKPRTFnZmiUfciyV.jpg   1995-12-15  ...        2  8844.0   \n",
       "\n",
       "     rating       director   years  production_companies_abierto  \\\n",
       "0  3.888157  John Lasseter  1995.0       Pixar Animation Studios   \n",
       "1  3.236953   Joe Johnston  1995.0              TriStar Pictures   \n",
       "\n",
       "   generos_desenvuelto  paises_de_produccion_desenvuelto  \\\n",
       "0            Animation          United States of America   \n",
       "1            Adventure          United States of America   \n",
       "\n",
       "  lenguas_habladas_desenvuelto          elenco  \n",
       "0                      English       Tom Hanks  \n",
       "1                      English  Robin Williams  \n",
       "\n",
       "[2 rows x 29 columns]"
      ]
     },
     "execution_count": 15,
     "metadata": {},
     "output_type": "execute_result"
    }
   ],
   "source": [
    "df.head(2)#Ver su parte final para percarse que ya no es una lista"
   ]
  },
  {
   "cell_type": "markdown",
   "metadata": {},
   "source": [
    "De este data frame solo voy a trabajar con unas cuantas columnas (atributos)"
   ]
  },
  {
   "cell_type": "code",
   "execution_count": 16,
   "metadata": {
    "scrolled": false
   },
   "outputs": [
    {
     "name": "stdout",
     "output_type": "stream",
     "text": [
      "<class 'pandas.core.frame.DataFrame'>\n",
      "RangeIndex: 44634 entries, 0 to 44633\n",
      "Data columns (total 29 columns):\n",
      "imdbId                              44634 non-null int64\n",
      "adult                               44634 non-null bool\n",
      "budget                              44634 non-null float64\n",
      "homepage                            7688 non-null object\n",
      "original_language                   44623 non-null object\n",
      "original_title                      44634 non-null object\n",
      "overview                            43699 non-null object\n",
      "popularity                          44634 non-null float64\n",
      "poster_path                         44272 non-null object\n",
      "release_date                        44558 non-null object\n",
      "revenue                             44634 non-null float64\n",
      "runtime                             44382 non-null float64\n",
      "status                              44556 non-null object\n",
      "tagline                             20068 non-null object\n",
      "title                               44634 non-null object\n",
      "video                               44634 non-null bool\n",
      "vote_average                        44634 non-null float64\n",
      "vote_count                          44634 non-null float64\n",
      "coleccion_desenvuelto               4422 non-null object\n",
      "movieId                             44634 non-null int64\n",
      "tmdbId                              44634 non-null float64\n",
      "rating                              44634 non-null float64\n",
      "director                            43780 non-null object\n",
      "years                               44558 non-null float64\n",
      "production_companies_abierto        32980 non-null object\n",
      "generos_desenvuelto                 42220 non-null object\n",
      "paises_de_produccion_desenvuelto    38448 non-null object\n",
      "lenguas_habladas_desenvuelto        40876 non-null object\n",
      "elenco                              42253 non-null object\n",
      "dtypes: bool(2), float64(9), int64(2), object(16)\n",
      "memory usage: 9.3+ MB\n"
     ]
    }
   ],
   "source": [
    "df_columns=df.columns\n",
    "columns_drop=['imdbId','adult','homepage','original_title','overview','poster_path','release_date','tagline',\n",
    "              'title','video',\"movieId\",\"tmdbId\",\"production_companies_abierto\",\"paises_de_produccion_desenvuelto\",\"lenguas_habladas_desenvuelto\",\"coleccion_desenvuelto\"]\n",
    "df.info()"
   ]
  },
  {
   "cell_type": "markdown",
   "metadata": {},
   "source": [
    "Notamos que los tipos no son los correctos. Corrijámoslo."
   ]
  },
  {
   "cell_type": "code",
   "execution_count": 17,
   "metadata": {},
   "outputs": [],
   "source": [
    "df=df.astype({'original_language': 'category',\"status\":'category',\"generos_desenvuelto\":'category',\"elenco\":\"category\",\"director\":\"category\",\"coleccion_desenvuelto\":\"category\"})\n",
    "df[\"release_date\"]=pd.to_datetime(df[\"release_date\"])#POr una extraña razón los tipos fueron modificados."
   ]
  },
  {
   "cell_type": "code",
   "execution_count": 18,
   "metadata": {},
   "outputs": [],
   "source": [
    "# df.groupby(\"coleccion_desenvuelto\").size().sort_values()      "
   ]
  },
  {
   "cell_type": "code",
   "execution_count": 19,
   "metadata": {
    "scrolled": true
   },
   "outputs": [
    {
     "data": {
      "text/html": [
       "<div>\n",
       "<style scoped>\n",
       "    .dataframe tbody tr th:only-of-type {\n",
       "        vertical-align: middle;\n",
       "    }\n",
       "\n",
       "    .dataframe tbody tr th {\n",
       "        vertical-align: top;\n",
       "    }\n",
       "\n",
       "    .dataframe thead th {\n",
       "        text-align: right;\n",
       "    }\n",
       "</style>\n",
       "<table border=\"1\" class=\"dataframe\">\n",
       "  <thead>\n",
       "    <tr style=\"text-align: right;\">\n",
       "      <th></th>\n",
       "      <th>budget</th>\n",
       "      <th>original_language</th>\n",
       "      <th>popularity</th>\n",
       "      <th>revenue</th>\n",
       "      <th>runtime</th>\n",
       "      <th>status</th>\n",
       "      <th>vote_average</th>\n",
       "      <th>vote_count</th>\n",
       "      <th>rating</th>\n",
       "      <th>director</th>\n",
       "      <th>years</th>\n",
       "      <th>generos_desenvuelto</th>\n",
       "      <th>elenco</th>\n",
       "    </tr>\n",
       "  </thead>\n",
       "  <tbody>\n",
       "    <tr>\n",
       "      <th>0</th>\n",
       "      <td>30000000.0</td>\n",
       "      <td>en</td>\n",
       "      <td>21.946943</td>\n",
       "      <td>373554033.0</td>\n",
       "      <td>81.0</td>\n",
       "      <td>Released</td>\n",
       "      <td>7.7</td>\n",
       "      <td>5415.0</td>\n",
       "      <td>3.888157</td>\n",
       "      <td>John Lasseter</td>\n",
       "      <td>1995.0</td>\n",
       "      <td>Animation</td>\n",
       "      <td>Tom Hanks</td>\n",
       "    </tr>\n",
       "    <tr>\n",
       "      <th>1</th>\n",
       "      <td>65000000.0</td>\n",
       "      <td>en</td>\n",
       "      <td>17.015539</td>\n",
       "      <td>262797249.0</td>\n",
       "      <td>104.0</td>\n",
       "      <td>Released</td>\n",
       "      <td>6.9</td>\n",
       "      <td>2413.0</td>\n",
       "      <td>3.236953</td>\n",
       "      <td>Joe Johnston</td>\n",
       "      <td>1995.0</td>\n",
       "      <td>Adventure</td>\n",
       "      <td>Robin Williams</td>\n",
       "    </tr>\n",
       "    <tr>\n",
       "      <th>2</th>\n",
       "      <td>0.0</td>\n",
       "      <td>en</td>\n",
       "      <td>11.712900</td>\n",
       "      <td>0.0</td>\n",
       "      <td>101.0</td>\n",
       "      <td>Released</td>\n",
       "      <td>6.5</td>\n",
       "      <td>92.0</td>\n",
       "      <td>3.175550</td>\n",
       "      <td>Howard Deutch</td>\n",
       "      <td>1995.0</td>\n",
       "      <td>Romance</td>\n",
       "      <td>Walter Matthau</td>\n",
       "    </tr>\n",
       "    <tr>\n",
       "      <th>3</th>\n",
       "      <td>16000000.0</td>\n",
       "      <td>en</td>\n",
       "      <td>3.859495</td>\n",
       "      <td>81452156.0</td>\n",
       "      <td>127.0</td>\n",
       "      <td>Released</td>\n",
       "      <td>6.1</td>\n",
       "      <td>34.0</td>\n",
       "      <td>2.875713</td>\n",
       "      <td>Forest Whitaker</td>\n",
       "      <td>1995.0</td>\n",
       "      <td>Comedy</td>\n",
       "      <td>Whitney Houston</td>\n",
       "    </tr>\n",
       "    <tr>\n",
       "      <th>4</th>\n",
       "      <td>0.0</td>\n",
       "      <td>en</td>\n",
       "      <td>8.387519</td>\n",
       "      <td>76578911.0</td>\n",
       "      <td>106.0</td>\n",
       "      <td>Released</td>\n",
       "      <td>5.7</td>\n",
       "      <td>173.0</td>\n",
       "      <td>3.079565</td>\n",
       "      <td>Charles Shyer</td>\n",
       "      <td>1995.0</td>\n",
       "      <td>Comedy</td>\n",
       "      <td>Steve Martin</td>\n",
       "    </tr>\n",
       "  </tbody>\n",
       "</table>\n",
       "</div>"
      ],
      "text/plain": [
       "       budget original_language  popularity      revenue  runtime    status  \\\n",
       "0  30000000.0                en   21.946943  373554033.0     81.0  Released   \n",
       "1  65000000.0                en   17.015539  262797249.0    104.0  Released   \n",
       "2         0.0                en   11.712900          0.0    101.0  Released   \n",
       "3  16000000.0                en    3.859495   81452156.0    127.0  Released   \n",
       "4         0.0                en    8.387519   76578911.0    106.0  Released   \n",
       "\n",
       "   vote_average  vote_count    rating         director   years  \\\n",
       "0           7.7      5415.0  3.888157    John Lasseter  1995.0   \n",
       "1           6.9      2413.0  3.236953     Joe Johnston  1995.0   \n",
       "2           6.5        92.0  3.175550    Howard Deutch  1995.0   \n",
       "3           6.1        34.0  2.875713  Forest Whitaker  1995.0   \n",
       "4           5.7       173.0  3.079565    Charles Shyer  1995.0   \n",
       "\n",
       "  generos_desenvuelto           elenco  \n",
       "0           Animation        Tom Hanks  \n",
       "1           Adventure   Robin Williams  \n",
       "2             Romance   Walter Matthau  \n",
       "3              Comedy  Whitney Houston  \n",
       "4              Comedy     Steve Martin  "
      ]
     },
     "execution_count": 19,
     "metadata": {},
     "output_type": "execute_result"
    }
   ],
   "source": [
    "df2=df.drop(columns_drop,axis=1)#Retiro las columnas que no me interesan\n",
    "df2.head()"
   ]
  },
  {
   "cell_type": "markdown",
   "metadata": {},
   "source": [
    "Ahora mi df solo contienen variables del tipo numérico y categórico"
   ]
  },
  {
   "cell_type": "code",
   "execution_count": 20,
   "metadata": {
    "scrolled": false
   },
   "outputs": [
    {
     "name": "stdout",
     "output_type": "stream",
     "text": [
      "<class 'pandas.core.frame.DataFrame'>\n",
      "RangeIndex: 44634 entries, 0 to 44633\n",
      "Data columns (total 13 columns):\n",
      "budget                 44634 non-null float64\n",
      "original_language      44623 non-null category\n",
      "popularity             44634 non-null float64\n",
      "revenue                44634 non-null float64\n",
      "runtime                44382 non-null float64\n",
      "status                 44556 non-null category\n",
      "vote_average           44634 non-null float64\n",
      "vote_count             44634 non-null float64\n",
      "rating                 44634 non-null float64\n",
      "director               43780 non-null category\n",
      "years                  44558 non-null float64\n",
      "generos_desenvuelto    42220 non-null category\n",
      "elenco                 42253 non-null category\n",
      "dtypes: category(5), float64(8)\n",
      "memory usage: 4.5 MB\n"
     ]
    }
   ],
   "source": [
    "df2.info()#"
   ]
  },
  {
   "cell_type": "code",
   "execution_count": 21,
   "metadata": {},
   "outputs": [],
   "source": [
    "df2=df2.dropna()#Dejamos de trabajr con valores perdidos. Para aplicar los distintos modelos no debemos de tener nulos"
   ]
  },
  {
   "cell_type": "code",
   "execution_count": 22,
   "metadata": {},
   "outputs": [
    {
     "data": {
      "text/html": [
       "<div>\n",
       "<style scoped>\n",
       "    .dataframe tbody tr th:only-of-type {\n",
       "        vertical-align: middle;\n",
       "    }\n",
       "\n",
       "    .dataframe tbody tr th {\n",
       "        vertical-align: top;\n",
       "    }\n",
       "\n",
       "    .dataframe thead th {\n",
       "        text-align: right;\n",
       "    }\n",
       "</style>\n",
       "<table border=\"1\" class=\"dataframe\">\n",
       "  <thead>\n",
       "    <tr style=\"text-align: right;\">\n",
       "      <th></th>\n",
       "      <th>budget</th>\n",
       "      <th>original_language</th>\n",
       "      <th>popularity</th>\n",
       "      <th>revenue</th>\n",
       "      <th>runtime</th>\n",
       "      <th>status</th>\n",
       "      <th>vote_average</th>\n",
       "      <th>vote_count</th>\n",
       "      <th>rating</th>\n",
       "      <th>director</th>\n",
       "      <th>years</th>\n",
       "      <th>generos_desenvuelto</th>\n",
       "      <th>elenco</th>\n",
       "    </tr>\n",
       "  </thead>\n",
       "  <tbody>\n",
       "    <tr>\n",
       "      <th>False</th>\n",
       "      <td>30976</td>\n",
       "      <td>NaN</td>\n",
       "      <td>21</td>\n",
       "      <td>32286</td>\n",
       "      <td>1050</td>\n",
       "      <td>NaN</td>\n",
       "      <td>1762</td>\n",
       "      <td>1688</td>\n",
       "      <td>NaN</td>\n",
       "      <td>NaN</td>\n",
       "      <td>NaN</td>\n",
       "      <td>NaN</td>\n",
       "      <td>NaN</td>\n",
       "    </tr>\n",
       "    <tr>\n",
       "      <th>True</th>\n",
       "      <td>8433</td>\n",
       "      <td>39409.0</td>\n",
       "      <td>39388</td>\n",
       "      <td>7123</td>\n",
       "      <td>38359</td>\n",
       "      <td>39409.0</td>\n",
       "      <td>37647</td>\n",
       "      <td>37721</td>\n",
       "      <td>39409.0</td>\n",
       "      <td>39409.0</td>\n",
       "      <td>39409.0</td>\n",
       "      <td>39409.0</td>\n",
       "      <td>39409.0</td>\n",
       "    </tr>\n",
       "  </tbody>\n",
       "</table>\n",
       "</div>"
      ],
      "text/plain": [
       "       budget  original_language  popularity  revenue  runtime   status  \\\n",
       "False   30976                NaN          21    32286     1050      NaN   \n",
       "True     8433            39409.0       39388     7123    38359  39409.0   \n",
       "\n",
       "       vote_average  vote_count   rating  director    years  \\\n",
       "False          1762        1688      NaN       NaN      NaN   \n",
       "True          37647       37721  39409.0   39409.0  39409.0   \n",
       "\n",
       "       generos_desenvuelto   elenco  \n",
       "False                  NaN      NaN  \n",
       "True               39409.0  39409.0  "
      ]
     },
     "execution_count": 22,
     "metadata": {},
     "output_type": "execute_result"
    }
   ],
   "source": [
    "(df2!=0).apply(pd.Series.value_counts)#Solo nos interesa trabajar con valores no son son cero. Ya que entrenar mi \n",
    "#modelo con valores 0 me llevana  un error. No puedo entrenar a mi modelo con revenue=0 o ingresos=0\n",
    "\n",
    "# Nos devuelve la cantidad de elementos que son distintos de cero (esto es para el true)"
   ]
  },
  {
   "cell_type": "code",
   "execution_count": 23,
   "metadata": {},
   "outputs": [],
   "source": [
    "elementoLImpio=(df2!=0) &(df2.notnull())#No debe de trabajar con valores 0, ni con vacío\n",
    "elementoLImpio.all(axis=1);#all es como un and gigante y es por filas\n",
    "df4=df2[elementoLImpio.all(axis=1)]#Este contiene a los datos sin valores 0 ni nulos"
   ]
  },
  {
   "cell_type": "code",
   "execution_count": 24,
   "metadata": {},
   "outputs": [],
   "source": [
    "# l1=list(np.linspace(0,5,6))#0,len-1,len\n",
    "# # df2.iloc[l1]"
   ]
  },
  {
   "cell_type": "code",
   "execution_count": 25,
   "metadata": {},
   "outputs": [],
   "source": [
    "# random.sample(l1, 3)"
   ]
  },
  {
   "cell_type": "code",
   "execution_count": 26,
   "metadata": {},
   "outputs": [],
   "source": [
    "# Función que solo me extrae unas cuantas filas de una data frame\n",
    "def retornaSoloUnasFilas(df,numFilasAExtraer):#No fue necesario el uso de esta funcion\n",
    "    numFil=len(df.index)\n",
    "    listCompleta=list(np.linspace(0,numFil-1,numFil))\n",
    "    listDeUnasCuantasFilas=random.sample(listCompleta,numFilasAExtraer)\n",
    "    return df.iloc[listDeUnasCuantasFilas]"
   ]
  },
  {
   "cell_type": "code",
   "execution_count": 27,
   "metadata": {},
   "outputs": [],
   "source": [
    "df3=retornaSoloUnasFilas(df2,5000)"
   ]
  },
  {
   "cell_type": "code",
   "execution_count": 28,
   "metadata": {},
   "outputs": [],
   "source": [
    "from sklearn.pipeline import Pipeline\n",
    "from sklearn.preprocessing import StandardScaler\n",
    "from sklearn.base import BaseEstimator, TransformerMixin\n",
    "\n",
    "class CustomTransformer(BaseEstimator, TransformerMixin):\n",
    "    def __init__(self, cat_features, num_features):\n",
    "        self.cat_features = cat_features\n",
    "        self.num_features = num_features\n",
    "        \n",
    "        # Valores de las variables categoricas, solo nos interesan los que aparecen en train\n",
    "        self.categories = {}\n",
    "        \n",
    "        # StandardScaler para variables numericas\n",
    "        self.num_scaler = StandardScaler()\n",
    "\n",
    "    def fit(self, X, *_):\n",
    "        # Almacenamos los valores de las variables categoricas sin repeticion ni nan\n",
    "        for c in self.cat_features:\n",
    "            self.categories[c] = X[c].dropna().unique().tolist()\n",
    "    \n",
    "        # Fit StandardScaler\n",
    "        self.num_scaler.fit(X[self.num_features])\n",
    "\n",
    "        return self\n",
    "    \n",
    "    def transform(self, X, *_):\n",
    "        out_X = pd.DataFrame(self.num_scaler.transform(X[self.num_features]), columns=self.num_features)\n",
    "        \n",
    "        # Transformamos los valores de cada categoria y los concatenamos al DF de salida\n",
    "        for c in self.cat_features:\n",
    "            # Cambiamos las variables object a categorical para que las categorias tengan siempre el mismo orden\n",
    "            c_df = X[c].astype(pd.api.types.CategoricalDtype(categories=self.categories[c]))\n",
    "            c_df.reset_index(drop=True, inplace=True)\n",
    "            \n",
    "            # One-hot encoding. Utilizamos get_dummies de pandas!\n",
    "            c_dummies = pd.get_dummies(c_df, prefix=c)\n",
    "            out_X = pd.concat([out_X, c_dummies], axis=1)\n",
    "            \n",
    "        return out_X"
   ]
  },
  {
   "cell_type": "markdown",
   "metadata": {},
   "source": [
    "Extrayendo mis atributos y la variable a predecir (revenue)"
   ]
  },
  {
   "cell_type": "code",
   "execution_count": 29,
   "metadata": {},
   "outputs": [],
   "source": [
    "X = df4.drop('revenue',axis=1)#\n",
    "Y = df4['revenue']#Lo que se va a predecir"
   ]
  },
  {
   "cell_type": "markdown",
   "metadata": {},
   "source": [
    "Obtengo mi lista de solo categórico y de solo numérico. Recodar que este solo tienen los tipos categórico y numérico"
   ]
  },
  {
   "cell_type": "code",
   "execution_count": 30,
   "metadata": {},
   "outputs": [],
   "source": [
    "cat_features=[]\n",
    "num_features=[]\n",
    "for i in range(len(X.columns)):\n",
    "    if X[(X.columns)[i]].dtype==\"float64\":\n",
    "        num_features.append((X.columns)[i])\n",
    "    else:\n",
    "        cat_features.append((X.columns)[i])"
   ]
  },
  {
   "cell_type": "code",
   "execution_count": null,
   "metadata": {},
   "outputs": [],
   "source": []
  },
  {
   "cell_type": "markdown",
   "metadata": {},
   "source": [
    "Divido mi set entre entrenamiento y test"
   ]
  },
  {
   "cell_type": "code",
   "execution_count": 31,
   "metadata": {},
   "outputs": [],
   "source": [
    "from sklearn.model_selection import train_test_split\n",
    "X_train, X_test, Y_train, Y_test = train_test_split(X, Y, test_size=0.3, random_state=42)"
   ]
  },
  {
   "cell_type": "code",
   "execution_count": null,
   "metadata": {},
   "outputs": [],
   "source": []
  },
  {
   "cell_type": "code",
   "execution_count": 32,
   "metadata": {},
   "outputs": [
    {
     "name": "stdout",
     "output_type": "stream",
     "text": [
      "Test:  2.009699625156412e+17\n",
      "Train:  19908257.369625136\n",
      "Test R2:  -0.0017101335072371437\n",
      "Train R2:  0.9289802422469526\n"
     ]
    }
   ],
   "source": [
    "pipe = Pipeline([('preprocessing', CustomTransformer(cat_features, num_features)), \n",
    "                 ('clf', LinearRegression())])\n",
    "pipe.fit(X_train, Y_train)\n",
    "\n",
    "Y_predict= pipe.predict(X_test)\n",
    "\n",
    "Y_predict_train= pipe.predict(X_train)\n",
    "\n",
    "print(\"Test: \",mean_absolute_error(Y_predict, Y_test))\n",
    "print(\"Train: \",mean_absolute_error(Y_predict_train, Y_train))\n",
    "\n",
    "print(\"Test R2: \",r2_score(Y_predict, Y_test))\n",
    "print(\"Train R2: \",r2_score(Y_predict_train, Y_train))"
   ]
  },
  {
   "cell_type": "code",
   "execution_count": 33,
   "metadata": {},
   "outputs": [
    {
     "name": "stdout",
     "output_type": "stream",
     "text": [
      "Test:  40177499.07228727\n",
      "Train:  24283862.6878202\n",
      "Test R2:  0.6428228531770839\n",
      "Train R2:  0.8913264679082382\n"
     ]
    }
   ],
   "source": [
    "pipe = Pipeline([('preprocessing', CustomTransformer(cat_features, num_features)), ('clf', RandomForestRegressor(n_estimators=10, min_samples_leaf=3, max_features='auto',\n",
    "                          n_jobs=-1))])\n",
    "pipe.fit(X_train, Y_train)\n",
    "\n",
    "Y_predict= pipe.predict(X_test)\n",
    "\n",
    "Y_predict_train= pipe.predict(X_train)\n",
    "\n",
    "print(\"Test: \",mean_absolute_error(Y_predict, Y_test))\n",
    "print(\"Train: \",mean_absolute_error(Y_predict_train, Y_train))\n",
    "\n",
    "print(\"Test R2: \",r2_score(Y_predict, Y_test))\n",
    "print(\"Train R2: \",r2_score(Y_predict_train, Y_train))"
   ]
  },
  {
   "cell_type": "markdown",
   "metadata": {},
   "source": [
    "Ahora solo voy a trabajar con los atributos numéricos."
   ]
  },
  {
   "cell_type": "code",
   "execution_count": 34,
   "metadata": {},
   "outputs": [],
   "source": [
    "df_solo_numerico=df4[num_features]\n",
    "df_solo_numerico;"
   ]
  },
  {
   "cell_type": "code",
   "execution_count": 35,
   "metadata": {},
   "outputs": [],
   "source": [
    "X = df_solo_numerico\n",
    "Y = df4['revenue']\n",
    "X_train, X_test, Y_train, Y_test = train_test_split(X, Y, test_size=0.3, random_state=42)"
   ]
  },
  {
   "cell_type": "markdown",
   "metadata": {},
   "source": [
    "## Usando Regresión Lineal"
   ]
  },
  {
   "cell_type": "markdown",
   "metadata": {},
   "source": [
    "Al usar una regresión lineal solo con los atributos numéricos se obtivo una score de 67%"
   ]
  },
  {
   "cell_type": "code",
   "execution_count": 36,
   "metadata": {},
   "outputs": [
    {
     "data": {
      "text/plain": [
       "0.6734051797681297"
      ]
     },
     "execution_count": 36,
     "metadata": {},
     "output_type": "execute_result"
    }
   ],
   "source": [
    "reg=LinearRegression().fit(X_train, Y_train)\n",
    "reg.score(X_test, Y_test)"
   ]
  },
  {
   "cell_type": "markdown",
   "metadata": {},
   "source": [
    "## Regresión Polinomial"
   ]
  },
  {
   "cell_type": "markdown",
   "metadata": {},
   "source": [
    "Ahora aplicaremos una regresión polinomial a mi df de solo numéricos"
   ]
  },
  {
   "cell_type": "code",
   "execution_count": 37,
   "metadata": {},
   "outputs": [
    {
     "data": {
      "text/plain": [
       "0.6282452000819552"
      ]
     },
     "execution_count": 37,
     "metadata": {},
     "output_type": "execute_result"
    }
   ],
   "source": [
    "from sklearn.preprocessing import PolynomialFeatures\n",
    "from sklearn import linear_model\n",
    "\n",
    "poly = PolynomialFeatures(degree=4)\n",
    "\n",
    "X_train_ = poly.fit_transform(X_train)\n",
    "X_test_=poly.fit_transform(X_test)\n",
    "\n",
    "clf = linear_model.LinearRegression()\n",
    "clf.fit(X_train_, Y_train)\n",
    "\n",
    "clf.score(X_test_, Y_test)# Al menos con el grado 4 se obtienen un score de 63%"
   ]
  },
  {
   "cell_type": "markdown",
   "metadata": {},
   "source": [
    "## Haciendo el uso de Cross Validation"
   ]
  },
  {
   "cell_type": "code",
   "execution_count": 38,
   "metadata": {},
   "outputs": [
    {
     "name": "stdout",
     "output_type": "stream",
     "text": [
      "Con el uso de una Regresión Lineal\n",
      "Mean: 0.6772318741982063\n",
      "Desv. Stand.: 0.135923348202496\n"
     ]
    },
    {
     "data": {
      "text/plain": [
       "array([0.48140137, 0.36134233, 0.64475912, 0.56138504, 0.35556779,\n",
       "       0.58345179, 0.78405653, 0.79785794, 0.71038378, 0.69353807,\n",
       "       0.75288298, 0.83850115, 0.73519073, 0.73379028, 0.78693977,\n",
       "       0.75986072, 0.70623563, 0.76411229, 0.77918767, 0.71419249])"
      ]
     },
     "execution_count": 38,
     "metadata": {},
     "output_type": "execute_result"
    }
   ],
   "source": [
    "# Mi X son es de numéricos.\n",
    "from sklearn.model_selection import cross_val_score\n",
    "scores = cross_val_score(LinearRegression(), X, Y, cv=20,scoring=\"r2\")\n",
    "print(\"Con el uso de una Regresión Lineal\")\n",
    "print(\"Mean:\",np.mean(scores))\n",
    "print(\"Desv. Stand.:\",np.std(scores))\n",
    "scores"
   ]
  },
  {
   "cell_type": "code",
   "execution_count": 39,
   "metadata": {},
   "outputs": [
    {
     "name": "stdout",
     "output_type": "stream",
     "text": [
      "Cross Validation con el uso de Regresión Polinomial\n",
      "Mean: 0.5112025268909084\n",
      "Desv. Stand.: 0.363730246827615\n"
     ]
    },
    {
     "data": {
      "text/plain": [
       "array([ 0.5511929 ,  0.68951833,  0.68374178,  0.82663832, -0.1950787 ])"
      ]
     },
     "execution_count": 39,
     "metadata": {},
     "output_type": "execute_result"
    }
   ],
   "source": [
    "poly = PolynomialFeatures(degree=2)\n",
    "X_ = poly.fit_transform(X)\n",
    "scores = cross_val_score(LinearRegression(), X_, Y, cv=5,scoring=\"r2\")\n",
    "print(\"Cross Validation con el uso de Regresión Polinomial\")\n",
    "print(\"Mean:\",np.mean(scores))\n",
    "print(\"Desv. Stand.:\",np.std(scores))\n",
    "scores"
   ]
  },
  {
   "cell_type": "markdown",
   "metadata": {},
   "source": [
    "## Haciendo el uso de Árbol de Regresión"
   ]
  },
  {
   "cell_type": "code",
   "execution_count": 40,
   "metadata": {},
   "outputs": [
    {
     "data": {
      "text/plain": [
       "array([0.31813534, 0.34397686, 0.12789376, 0.70745494, 0.55477942,\n",
       "       0.70553645, 0.68032855, 0.48224592, 0.57812221, 0.44580374])"
      ]
     },
     "execution_count": 40,
     "metadata": {},
     "output_type": "execute_result"
    }
   ],
   "source": [
    "from sklearn.tree import DecisionTreeRegressor\n",
    "regressor = DecisionTreeRegressor(random_state=10)\n",
    "cross_val_score(regressor, X, Y, cv=10)"
   ]
  },
  {
   "cell_type": "markdown",
   "metadata": {},
   "source": [
    "# Clasificación"
   ]
  },
  {
   "cell_type": "markdown",
   "metadata": {},
   "source": [
    "Ahora vamoa a clasificar uno de los atributos. En este caso lo que vamos a querer predecir es a qué tipo de género pertenece una película.\n"
   ]
  },
  {
   "cell_type": "code",
   "execution_count": 41,
   "metadata": {},
   "outputs": [],
   "source": [
    "Y=df4.generos_desenvuelto\n",
    "X=df4.drop(\"generos_desenvuelto\",axis=1)"
   ]
  },
  {
   "cell_type": "markdown",
   "metadata": {},
   "source": [
    "Nos damo cuenta que al clasificar las películas estas no estan distribuidad igualmente en cantidad. "
   ]
  },
  {
   "cell_type": "code",
   "execution_count": 42,
   "metadata": {},
   "outputs": [
    {
     "data": {
      "text/plain": [
       "Drama              1430\n",
       "Comedy             1102\n",
       "Action              665\n",
       "Horror              314\n",
       "Documentary         287\n",
       "Adventure           253\n",
       "Crime               232\n",
       "Thriller            152\n",
       "Romance             118\n",
       "Fantasy             114\n",
       "Animation           111\n",
       "Science Fiction      88\n",
       "Mystery              73\n",
       "Music                55\n",
       "Family               51\n",
       "War                  47\n",
       "Western              34\n",
       "History              31\n",
       "TV Movie             21\n",
       "Foreign               5\n",
       "Name: generos_desenvuelto, dtype: int64"
      ]
     },
     "execution_count": 42,
     "metadata": {},
     "output_type": "execute_result"
    }
   ],
   "source": [
    "Y.value_counts()"
   ]
  },
  {
   "cell_type": "code",
   "execution_count": 43,
   "metadata": {
    "scrolled": true
   },
   "outputs": [
    {
     "name": "stdout",
     "output_type": "stream",
     "text": [
      "La cantidad de tipos de géneros en las películas es: 20\n"
     ]
    }
   ],
   "source": [
    "print(\"La cantidad de tipos de géneros en las películas es:\",len(Y.value_counts()))"
   ]
  },
  {
   "cell_type": "code",
   "execution_count": 44,
   "metadata": {},
   "outputs": [],
   "source": [
    "def pasaADummiUnaColumna(df,nombreColumna):\n",
    "    c_dummies = pd.get_dummies(df, prefix=nombreColumna)\n",
    "    return pd.concat([df, c_dummies], axis=1).drop(nombreColumna,axis=1)"
   ]
  },
  {
   "cell_type": "code",
   "execution_count": 45,
   "metadata": {},
   "outputs": [
    {
     "data": {
      "text/plain": [
       "Released           5179\n",
       "Rumored               2\n",
       "Post Production       2\n",
       "Planned               0\n",
       "In Production         0\n",
       "Canceled              0\n",
       "Name: status, dtype: int64"
      ]
     },
     "execution_count": 45,
     "metadata": {},
     "output_type": "execute_result"
    }
   ],
   "source": [
    "df4.status.value_counts()#Como la mayoria esta en release mejor no lo tomo en cuenta y elimino este atributo"
   ]
  },
  {
   "cell_type": "code",
   "execution_count": 46,
   "metadata": {},
   "outputs": [],
   "source": [
    "df4=df4.drop(\"status\",axis=1)"
   ]
  },
  {
   "cell_type": "code",
   "execution_count": 47,
   "metadata": {},
   "outputs": [
    {
     "name": "stdout",
     "output_type": "stream",
     "text": [
      "<class 'pandas.core.frame.DataFrame'>\n",
      "Int64Index: 5183 entries, 0 to 44591\n",
      "Data columns (total 12 columns):\n",
      "budget                 5183 non-null float64\n",
      "original_language      5183 non-null category\n",
      "popularity             5183 non-null float64\n",
      "revenue                5183 non-null float64\n",
      "runtime                5183 non-null float64\n",
      "vote_average           5183 non-null float64\n",
      "vote_count             5183 non-null float64\n",
      "rating                 5183 non-null float64\n",
      "director               5183 non-null category\n",
      "years                  5183 non-null float64\n",
      "generos_desenvuelto    5183 non-null category\n",
      "elenco                 5183 non-null category\n",
      "dtypes: category(4), float64(8)\n",
      "memory usage: 1.9 MB\n"
     ]
    }
   ],
   "source": [
    "df4.info()"
   ]
  },
  {
   "cell_type": "code",
   "execution_count": 48,
   "metadata": {},
   "outputs": [],
   "source": [
    "# original_language,director,elenco\n",
    "df4=df4.astype({\"original_language\":\"object\",\"director\":\"object\",\"elenco\":\"object\",\"generos_desenvuelto\":\"object\"})\n",
    "df4=df4.astype({\"original_language\":\"category\",\"director\":\"category\",\"elenco\":\"category\",\n",
    "                \"generos_desenvuelto\":\"category\"})# Hago esto para no tener\n",
    "#categorías que no tengan ninguna frecuencia. (esto se devio a que solo se esta trabajando con valores limpios)"
   ]
  },
  {
   "cell_type": "code",
   "execution_count": 49,
   "metadata": {},
   "outputs": [
    {
     "data": {
      "text/plain": [
       "2135"
      ]
     },
     "execution_count": 49,
     "metadata": {},
     "output_type": "execute_result"
    }
   ],
   "source": [
    "# len(df4.original_language.value_counts())#40\n",
    "# len(df4.director.value_counts())#2333\n",
    "len(df4.elenco.value_counts())#2135\n",
    "#Se estaría agregando 40+2333+2135 atributos a mi df"
   ]
  },
  {
   "cell_type": "code",
   "execution_count": 50,
   "metadata": {},
   "outputs": [],
   "source": [
    "# df4.original_language.value_counts()\n",
    "# df4[df4.original_language==\"fa\"]\n",
    "\n",
    "df5=pasaADummiUnaColumna(df4,\"original_language\")#Demora al pasara a dummie ya que se estan creando varias columnas\n",
    "df5=pasaADummiUnaColumna(df5,\"director\")\n",
    "df5=pasaADummiUnaColumna(df5,\"elenco\")"
   ]
  },
  {
   "cell_type": "code",
   "execution_count": 51,
   "metadata": {},
   "outputs": [
    {
     "data": {
      "text/plain": [
       "(5183, 29308)"
      ]
     },
     "execution_count": 51,
     "metadata": {},
     "output_type": "execute_result"
    }
   ],
   "source": [
    "df5.shape#Veamos las cantidad de atributo que ahora tienen mi df"
   ]
  },
  {
   "cell_type": "code",
   "execution_count": 52,
   "metadata": {},
   "outputs": [],
   "source": [
    "X = df5.drop(\"generos_desenvuelto\",axis=1)"
   ]
  },
  {
   "cell_type": "code",
   "execution_count": 53,
   "metadata": {},
   "outputs": [
    {
     "data": {
      "text/html": [
       "<div>\n",
       "<style scoped>\n",
       "    .dataframe tbody tr th:only-of-type {\n",
       "        vertical-align: middle;\n",
       "    }\n",
       "\n",
       "    .dataframe tbody tr th {\n",
       "        vertical-align: top;\n",
       "    }\n",
       "\n",
       "    .dataframe thead th {\n",
       "        text-align: right;\n",
       "    }\n",
       "</style>\n",
       "<table border=\"1\" class=\"dataframe\">\n",
       "  <thead>\n",
       "    <tr style=\"text-align: right;\">\n",
       "      <th></th>\n",
       "      <th>budget</th>\n",
       "      <th>popularity</th>\n",
       "      <th>revenue</th>\n",
       "      <th>runtime</th>\n",
       "      <th>vote_average</th>\n",
       "      <th>vote_count</th>\n",
       "      <th>rating</th>\n",
       "      <th>years</th>\n",
       "      <th>budget</th>\n",
       "      <th>popularity</th>\n",
       "      <th>...</th>\n",
       "      <th>elenco_Zoe Saldana</th>\n",
       "      <th>elenco_Zoe Sloane</th>\n",
       "      <th>elenco_Zoe Weizenbaum</th>\n",
       "      <th>elenco_Zoey Deutch</th>\n",
       "      <th>elenco_Zooey Deschanel</th>\n",
       "      <th>elenco_Zsófia Psotta</th>\n",
       "      <th>elenco_Zuhab Khan</th>\n",
       "      <th>elenco_Şahan Gökbakar</th>\n",
       "      <th>elenco_Гордан Кичић</th>\n",
       "      <th>elenco_杰森·莫玛</th>\n",
       "    </tr>\n",
       "  </thead>\n",
       "  <tbody>\n",
       "    <tr>\n",
       "      <th>0</th>\n",
       "      <td>30000000.0</td>\n",
       "      <td>21.946943</td>\n",
       "      <td>373554033.0</td>\n",
       "      <td>81.0</td>\n",
       "      <td>7.7</td>\n",
       "      <td>5415.0</td>\n",
       "      <td>3.888157</td>\n",
       "      <td>1995.0</td>\n",
       "      <td>30000000.0</td>\n",
       "      <td>21.946943</td>\n",
       "      <td>...</td>\n",
       "      <td>0</td>\n",
       "      <td>0</td>\n",
       "      <td>0</td>\n",
       "      <td>0</td>\n",
       "      <td>0</td>\n",
       "      <td>0</td>\n",
       "      <td>0</td>\n",
       "      <td>0</td>\n",
       "      <td>0</td>\n",
       "      <td>0</td>\n",
       "    </tr>\n",
       "    <tr>\n",
       "      <th>1</th>\n",
       "      <td>65000000.0</td>\n",
       "      <td>17.015539</td>\n",
       "      <td>262797249.0</td>\n",
       "      <td>104.0</td>\n",
       "      <td>6.9</td>\n",
       "      <td>2413.0</td>\n",
       "      <td>3.236953</td>\n",
       "      <td>1995.0</td>\n",
       "      <td>65000000.0</td>\n",
       "      <td>17.015539</td>\n",
       "      <td>...</td>\n",
       "      <td>0</td>\n",
       "      <td>0</td>\n",
       "      <td>0</td>\n",
       "      <td>0</td>\n",
       "      <td>0</td>\n",
       "      <td>0</td>\n",
       "      <td>0</td>\n",
       "      <td>0</td>\n",
       "      <td>0</td>\n",
       "      <td>0</td>\n",
       "    </tr>\n",
       "  </tbody>\n",
       "</table>\n",
       "<p>2 rows × 29307 columns</p>\n",
       "</div>"
      ],
      "text/plain": [
       "       budget  popularity      revenue  runtime  vote_average  vote_count  \\\n",
       "0  30000000.0   21.946943  373554033.0     81.0           7.7      5415.0   \n",
       "1  65000000.0   17.015539  262797249.0    104.0           6.9      2413.0   \n",
       "\n",
       "     rating   years      budget  popularity  ...  elenco_Zoe Saldana  \\\n",
       "0  3.888157  1995.0  30000000.0   21.946943  ...                   0   \n",
       "1  3.236953  1995.0  65000000.0   17.015539  ...                   0   \n",
       "\n",
       "   elenco_Zoe Sloane  elenco_Zoe Weizenbaum  elenco_Zoey Deutch  \\\n",
       "0                  0                      0                   0   \n",
       "1                  0                      0                   0   \n",
       "\n",
       "   elenco_Zooey Deschanel  elenco_Zsófia Psotta  elenco_Zuhab Khan  \\\n",
       "0                       0                     0                  0   \n",
       "1                       0                     0                  0   \n",
       "\n",
       "   elenco_Şahan Gökbakar  elenco_Гордан Кичић  elenco_杰森·莫玛  \n",
       "0                      0                    0             0  \n",
       "1                      0                    0             0  \n",
       "\n",
       "[2 rows x 29307 columns]"
      ]
     },
     "execution_count": 53,
     "metadata": {},
     "output_type": "execute_result"
    }
   ],
   "source": [
    "X.head(2)"
   ]
  },
  {
   "cell_type": "code",
   "execution_count": 54,
   "metadata": {},
   "outputs": [],
   "source": [
    "Y = df5.generos_desenvuelto"
   ]
  },
  {
   "cell_type": "code",
   "execution_count": 55,
   "metadata": {
    "scrolled": true
   },
   "outputs": [
    {
     "data": {
      "text/plain": [
       "0    Animation\n",
       "1    Adventure\n",
       "3       Comedy\n",
       "5       Action\n",
       "8       Action\n",
       "Name: generos_desenvuelto, dtype: category\n",
       "Categories (20, object): [Action, Adventure, Animation, Comedy, ..., TV Movie, Thriller, War, Western]"
      ]
     },
     "execution_count": 55,
     "metadata": {},
     "output_type": "execute_result"
    }
   ],
   "source": [
    "Y.head()"
   ]
  },
  {
   "cell_type": "code",
   "execution_count": 56,
   "metadata": {},
   "outputs": [
    {
     "data": {
      "text/plain": [
       "Drama              1430\n",
       "Comedy             1102\n",
       "Action              665\n",
       "Horror              314\n",
       "Documentary         287\n",
       "Adventure           253\n",
       "Crime               232\n",
       "Thriller            152\n",
       "Romance             118\n",
       "Fantasy             114\n",
       "Animation           111\n",
       "Science Fiction      88\n",
       "Mystery              73\n",
       "Music                55\n",
       "Family               51\n",
       "War                  47\n",
       "Western              34\n",
       "History              31\n",
       "TV Movie             21\n",
       "Foreign               5\n",
       "Name: generos_desenvuelto, dtype: int64"
      ]
     },
     "execution_count": 56,
     "metadata": {},
     "output_type": "execute_result"
    }
   ],
   "source": [
    "len(Y.value_counts())\n",
    "Y.value_counts()"
   ]
  },
  {
   "cell_type": "code",
   "execution_count": 57,
   "metadata": {},
   "outputs": [],
   "source": [
    "X_train, X_test, Y_train, Y_test = train_test_split(X, Y, test_size=0.3, random_state=42)"
   ]
  },
  {
   "cell_type": "markdown",
   "metadata": {},
   "source": [
    "## Regresión Logística"
   ]
  },
  {
   "cell_type": "code",
   "execution_count": 58,
   "metadata": {},
   "outputs": [],
   "source": [
    "# Definimos una funcion para imprimir las metrica de evaluacion\n",
    "from sklearn.metrics import accuracy_score, precision_score, recall_score, f1_score\n",
    "def print_metrics(y, pred):#y es la clase verdadera\n",
    "    accuracy = accuracy_score(y_true=y, y_pred=pred)\n",
    "    precision = precision_score(y_true=y, y_pred=pred)\n",
    "    recall = recall_score(y_true=y, y_pred=pred)\n",
    "    f1 = f1_score(y_true=y, y_pred=pred)\n",
    "\n",
    "    print('\\nAccuracy: {:.4f}  Precision:{:.4f}  Recall:{:.4f}  F1:{:.4f}'.format(accuracy, precision, recall, f1))\n",
    "    \n",
    "    # return accuracy, precision, recall, f1"
   ]
  },
  {
   "cell_type": "code",
   "execution_count": 59,
   "metadata": {},
   "outputs": [
    {
     "data": {
      "text/plain": [
       "LogisticRegression(C=0.5, class_weight=None, dual=False, fit_intercept=True,\n",
       "                   intercept_scaling=1, l1_ratio=None, max_iter=1000,\n",
       "                   multi_class='multinomial', n_jobs=None, penalty='l2',\n",
       "                   random_state=0, solver='lbfgs', tol=0.0001, verbose=0,\n",
       "                   warm_start=False)"
      ]
     },
     "execution_count": 59,
     "metadata": {},
     "output_type": "execute_result"
    }
   ],
   "source": [
    "from sklearn.linear_model import LogisticRegression\n",
    "seed=1234\n",
    "np.random.seed(seed)\n",
    "clf = LogisticRegression(random_state=0, solver='lbfgs',multi_class='multinomial',penalty=\"l2\",C=0.5,max_iter=1000)\n",
    "#multi_class='ovr'\n",
    "clf.fit(X_train, Y_train)"
   ]
  },
  {
   "cell_type": "code",
   "execution_count": 60,
   "metadata": {},
   "outputs": [
    {
     "data": {
      "text/plain": [
       "0.262379421221865"
      ]
     },
     "execution_count": 60,
     "metadata": {},
     "output_type": "execute_result"
    }
   ],
   "source": [
    "clf.score(X_test,Y_test)"
   ]
  },
  {
   "cell_type": "code",
   "execution_count": 61,
   "metadata": {},
   "outputs": [
    {
     "name": "stdout",
     "output_type": "stream",
     "text": [
      "                 precision    recall  f1-score   support\n",
      "\n",
      "         Action       0.00      0.00      0.00       197\n",
      "      Adventure       0.11      0.04      0.06        70\n",
      "      Animation       0.00      0.00      0.00        25\n",
      "         Comedy       0.25      0.25      0.25       324\n",
      "          Crime       0.00      0.00      0.00        63\n",
      "    Documentary       0.00      0.00      0.00        96\n",
      "          Drama       0.28      0.75      0.40       435\n",
      "         Family       0.00      0.00      0.00        14\n",
      "        Fantasy       0.00      0.00      0.00        39\n",
      "        Foreign       0.00      0.00      0.00         1\n",
      "        History       0.00      0.00      0.00         9\n",
      "         Horror       0.00      0.00      0.00        97\n",
      "          Music       0.00      0.00      0.00         8\n",
      "        Mystery       0.00      0.00      0.00        26\n",
      "        Romance       0.00      0.00      0.00        39\n",
      "Science Fiction       0.00      0.00      0.00        29\n",
      "       TV Movie       0.00      0.00      0.00         7\n",
      "       Thriller       0.00      0.00      0.00        52\n",
      "            War       0.00      0.00      0.00        14\n",
      "        Western       0.00      0.00      0.00        10\n",
      "\n",
      "       accuracy                           0.26      1555\n",
      "      macro avg       0.03      0.05      0.04      1555\n",
      "   weighted avg       0.13      0.26      0.17      1555\n",
      "\n"
     ]
    },
    {
     "name": "stderr",
     "output_type": "stream",
     "text": [
      "C:\\ProgramData\\Anaconda3\\lib\\site-packages\\sklearn\\metrics\\classification.py:1437: UndefinedMetricWarning: Precision and F-score are ill-defined and being set to 0.0 in labels with no predicted samples.\n",
      "  'precision', 'predicted', average, warn_for)\n"
     ]
    }
   ],
   "source": [
    "from sklearn.metrics import classification_report\n",
    "print(classification_report(Y_test, clf.predict(X_test)))#Para ver precision    recall  f1-score ya que los géneros\n",
    "#no esta parejamente distribuidos"
   ]
  },
  {
   "cell_type": "markdown",
   "metadata": {},
   "source": [
    "Entonces podemos decir que la regresión logística no es la mejor solución para predecir el tipo de película.\n",
    "Ahora intentemos con otro clasificador (Decision Tree Classifier)"
   ]
  },
  {
   "cell_type": "markdown",
   "metadata": {},
   "source": [
    "## Decision Tree Classifier"
   ]
  },
  {
   "cell_type": "code",
   "execution_count": 62,
   "metadata": {},
   "outputs": [
    {
     "data": {
      "text/plain": [
       "1.0"
      ]
     },
     "execution_count": 62,
     "metadata": {},
     "output_type": "execute_result"
    }
   ],
   "source": [
    "from sklearn.tree import DecisionTreeClassifier\n",
    "clf = DecisionTreeClassifier(min_samples_split=4,random_state=0,criterion=\"entropy\")\n",
    "clf.fit(X_train, Y_train)\n",
    "clf.score(X_test,Y_test)\n",
    "#Que salga un 100% es sinónimo de overfitting para la Clasificación del género. Y esto es debido a que el arbol \n",
    "#se sigue ramificando hasta tener hojas puras."
   ]
  },
  {
   "cell_type": "code",
   "execution_count": 63,
   "metadata": {},
   "outputs": [
    {
     "name": "stderr",
     "output_type": "stream",
     "text": [
      "C:\\ProgramData\\Anaconda3\\lib\\site-packages\\sklearn\\model_selection\\_split.py:657: Warning: The least populated class in y has only 5 members, which is too few. The minimum number of members in any class cannot be less than n_splits=10.\n",
      "  % (min_groups, self.n_splits)), Warning)\n"
     ]
    },
    {
     "data": {
      "text/plain": [
       "array([0.91320755, 0.91825095, 0.91778203, 0.9193858 , 0.92084942,\n",
       "       0.92427184, 0.92427184, 0.92592593, 0.92759295, 0.92759295])"
      ]
     },
     "execution_count": 63,
     "metadata": {},
     "output_type": "execute_result"
    }
   ],
   "source": [
    "#Veamos qué ocrurre cuando forzamos la máxima profundidad del árbol a un valor\n",
    "clf = DecisionTreeClassifier(min_samples_split=4,random_state=0,criterion=\"entropy\",max_depth=10)\n",
    "cross_val_score(clf, X,Y, cv=10)\n",
    "#Al menos ahora ya no tenenmos un modelo tan complicado que se acopla a los datos y ya no tenemos un score del 100%"
   ]
  },
  {
   "cell_type": "markdown",
   "metadata": {},
   "source": [
    "# AGRUPAMIENTO"
   ]
  },
  {
   "cell_type": "markdown",
   "metadata": {},
   "source": [
    "En esta parte no vamos a buscar predecir una variable continua o categórica, en este caso vamos a agrupar las pellículas. Aplicaremos distintos algoritmos."
   ]
  },
  {
   "cell_type": "markdown",
   "metadata": {},
   "source": [
    "## Usando KMENAS"
   ]
  },
  {
   "cell_type": "markdown",
   "metadata": {},
   "source": [
    "Para este caso tenemos que saber muy bien cuál el número idónero de clústeres que se van a tomar. Por ser la función de coste un \"codo\", tomares valores entre 3, 4 o 5 clústeres.\n",
    "\n",
    "Para esto solo vamos a trabajar en 1er lugar con los valores numéricos.\n",
    "\n",
    "Como vamos a trabajar condistancias lo que vamos a hacer es hacer una estarización a los atributos."
   ]
  },
  {
   "cell_type": "code",
   "execution_count": 64,
   "metadata": {},
   "outputs": [
    {
     "data": {
      "text/html": [
       "<div>\n",
       "<style scoped>\n",
       "    .dataframe tbody tr th:only-of-type {\n",
       "        vertical-align: middle;\n",
       "    }\n",
       "\n",
       "    .dataframe tbody tr th {\n",
       "        vertical-align: top;\n",
       "    }\n",
       "\n",
       "    .dataframe thead th {\n",
       "        text-align: right;\n",
       "    }\n",
       "</style>\n",
       "<table border=\"1\" class=\"dataframe\">\n",
       "  <thead>\n",
       "    <tr style=\"text-align: right;\">\n",
       "      <th></th>\n",
       "      <th>budget</th>\n",
       "      <th>popularity</th>\n",
       "      <th>revenue</th>\n",
       "      <th>runtime</th>\n",
       "      <th>vote_average</th>\n",
       "      <th>vote_count</th>\n",
       "      <th>rating</th>\n",
       "      <th>years</th>\n",
       "    </tr>\n",
       "  </thead>\n",
       "  <tbody>\n",
       "    <tr>\n",
       "      <th>0</th>\n",
       "      <td>30000000.0</td>\n",
       "      <td>21.946943</td>\n",
       "      <td>373554033.0</td>\n",
       "      <td>81.0</td>\n",
       "      <td>7.7</td>\n",
       "      <td>5415.0</td>\n",
       "      <td>3.888157</td>\n",
       "      <td>1995.0</td>\n",
       "    </tr>\n",
       "    <tr>\n",
       "      <th>1</th>\n",
       "      <td>65000000.0</td>\n",
       "      <td>17.015539</td>\n",
       "      <td>262797249.0</td>\n",
       "      <td>104.0</td>\n",
       "      <td>6.9</td>\n",
       "      <td>2413.0</td>\n",
       "      <td>3.236953</td>\n",
       "      <td>1995.0</td>\n",
       "    </tr>\n",
       "  </tbody>\n",
       "</table>\n",
       "</div>"
      ],
      "text/plain": [
       "       budget  popularity      revenue  runtime  vote_average  vote_count  \\\n",
       "0  30000000.0   21.946943  373554033.0     81.0           7.7      5415.0   \n",
       "1  65000000.0   17.015539  262797249.0    104.0           6.9      2413.0   \n",
       "\n",
       "     rating   years  \n",
       "0  3.888157  1995.0  \n",
       "1  3.236953  1995.0  "
      ]
     },
     "execution_count": 64,
     "metadata": {},
     "output_type": "execute_result"
    }
   ],
   "source": [
    "from sklearn.cluster import KMeans\n",
    "col_num=[\"budget\",\"popularity\",\"revenue\",\"runtime\",\"vote_average\",\"vote_count\",\"rating\",\"years\"]\n",
    "df_num=df4[col_num]#Pasemos a Normalizarla\n",
    "df_num.head(2)"
   ]
  },
  {
   "cell_type": "code",
   "execution_count": 65,
   "metadata": {},
   "outputs": [],
   "source": [
    "def normalizaDF(df):#Funcion para normalizar c/ columna de mi df. También se podría hacer un escalamientos.\n",
    "    for c in df.columns:\n",
    "        df[c]=(df[c]-df[c].mean())/df[c].std()\n",
    "    return df"
   ]
  },
  {
   "cell_type": "code",
   "execution_count": 66,
   "metadata": {},
   "outputs": [
    {
     "name": "stderr",
     "output_type": "stream",
     "text": [
      "C:\\ProgramData\\Anaconda3\\lib\\site-packages\\ipykernel_launcher.py:3: SettingWithCopyWarning: \n",
      "A value is trying to be set on a copy of a slice from a DataFrame.\n",
      "Try using .loc[row_indexer,col_indexer] = value instead\n",
      "\n",
      "See the caveats in the documentation: http://pandas.pydata.org/pandas-docs/stable/indexing.html#indexing-view-versus-copy\n",
      "  This is separate from the ipykernel package so we can avoid doing imports until\n"
     ]
    }
   ],
   "source": [
    "df_num_norm=normalizaDF(df_num)"
   ]
  },
  {
   "cell_type": "code",
   "execution_count": 67,
   "metadata": {},
   "outputs": [
    {
     "data": {
      "text/html": [
       "<div>\n",
       "<style scoped>\n",
       "    .dataframe tbody tr th:only-of-type {\n",
       "        vertical-align: middle;\n",
       "    }\n",
       "\n",
       "    .dataframe tbody tr th {\n",
       "        vertical-align: top;\n",
       "    }\n",
       "\n",
       "    .dataframe thead th {\n",
       "        text-align: right;\n",
       "    }\n",
       "</style>\n",
       "<table border=\"1\" class=\"dataframe\">\n",
       "  <thead>\n",
       "    <tr style=\"text-align: right;\">\n",
       "      <th></th>\n",
       "      <th>budget</th>\n",
       "      <th>popularity</th>\n",
       "      <th>revenue</th>\n",
       "      <th>runtime</th>\n",
       "      <th>vote_average</th>\n",
       "      <th>vote_count</th>\n",
       "      <th>rating</th>\n",
       "      <th>years</th>\n",
       "    </tr>\n",
       "  </thead>\n",
       "  <tbody>\n",
       "    <tr>\n",
       "      <th>0</th>\n",
       "      <td>-0.028623</td>\n",
       "      <td>0.883235</td>\n",
       "      <td>1.690634</td>\n",
       "      <td>-1.361326</td>\n",
       "      <td>1.568977</td>\n",
       "      <td>3.729284</td>\n",
       "      <td>1.304745</td>\n",
       "      <td>-0.281081</td>\n",
       "    </tr>\n",
       "    <tr>\n",
       "      <th>1</th>\n",
       "      <td>0.845042</td>\n",
       "      <td>0.525012</td>\n",
       "      <td>1.028023</td>\n",
       "      <td>-0.280186</td>\n",
       "      <td>0.680840</td>\n",
       "      <td>1.337748</td>\n",
       "      <td>0.064456</td>\n",
       "      <td>-0.281081</td>\n",
       "    </tr>\n",
       "  </tbody>\n",
       "</table>\n",
       "</div>"
      ],
      "text/plain": [
       "     budget  popularity   revenue   runtime  vote_average  vote_count  \\\n",
       "0 -0.028623    0.883235  1.690634 -1.361326      1.568977    3.729284   \n",
       "1  0.845042    0.525012  1.028023 -0.280186      0.680840    1.337748   \n",
       "\n",
       "     rating     years  \n",
       "0  1.304745 -0.281081  \n",
       "1  0.064456 -0.281081  "
      ]
     },
     "execution_count": 67,
     "metadata": {},
     "output_type": "execute_result"
    }
   ],
   "source": [
    "df_num_norm.head(2)# Ahora ya se encuentran normalizado mis datos."
   ]
  },
  {
   "cell_type": "code",
   "execution_count": 68,
   "metadata": {
    "scrolled": true
   },
   "outputs": [
    {
     "name": "stdout",
     "output_type": "stream",
     "text": [
      "[0 2 1 ... 2 1 1]\n",
      "[[ 2.49410573  1.42311912  2.76856291  0.64660102  0.56791384  2.69638141\n",
      "   0.45606649  0.56451936]\n",
      " [-0.05902683 -0.14062119 -0.20620453 -0.43767672 -0.81153477 -0.30537027\n",
      "  -0.80518097  0.19444911]\n",
      " [-0.29363277 -0.06720729 -0.19394942  0.32016831  0.68195245 -0.09080621\n",
      "   0.69164245 -0.26143872]]\n"
     ]
    }
   ],
   "source": [
    "kmeans = KMeans(n_clusters=3, random_state=0).fit(df_num_norm)\n",
    "print(kmeans.labels_)\n",
    "print(kmeans.cluster_centers_)"
   ]
  },
  {
   "cell_type": "markdown",
   "metadata": {},
   "source": [
    "Cuando la cantidad de clúster es 3, la distribución de la cantidad de elementos de cada clúster es dispareja. Notamos que 2 clases estan en igual proporción (clase 1 y 2) y una mucho menos (clase 0).\n",
    "\n",
    "Cantidad de cada clase en porcentaje:"
   ]
  },
  {
   "cell_type": "code",
   "execution_count": 69,
   "metadata": {},
   "outputs": [
    {
     "data": {
      "text/plain": [
       "2    48.176732\n",
       "1    45.089716\n",
       "0     6.733552\n",
       "Name: 0, dtype: float64"
      ]
     },
     "execution_count": 69,
     "metadata": {},
     "output_type": "execute_result"
    }
   ],
   "source": [
    "# (pd.DataFrame(kmeans.labels_))[0].value_counts()# Notamos que hay pocos del tipo 0, veamos qué películas son\n",
    "(pd.DataFrame(kmeans.labels_))[0].value_counts()/len(df4.index)*100"
   ]
  },
  {
   "cell_type": "code",
   "execution_count": 70,
   "metadata": {},
   "outputs": [
    {
     "data": {
      "text/html": [
       "<div>\n",
       "<style scoped>\n",
       "    .dataframe tbody tr th:only-of-type {\n",
       "        vertical-align: middle;\n",
       "    }\n",
       "\n",
       "    .dataframe tbody tr th {\n",
       "        vertical-align: top;\n",
       "    }\n",
       "\n",
       "    .dataframe thead th {\n",
       "        text-align: right;\n",
       "    }\n",
       "</style>\n",
       "<table border=\"1\" class=\"dataframe\">\n",
       "  <thead>\n",
       "    <tr style=\"text-align: right;\">\n",
       "      <th></th>\n",
       "      <th>budget</th>\n",
       "      <th>original_language</th>\n",
       "      <th>popularity</th>\n",
       "      <th>revenue</th>\n",
       "      <th>runtime</th>\n",
       "      <th>vote_average</th>\n",
       "      <th>vote_count</th>\n",
       "      <th>rating</th>\n",
       "      <th>director</th>\n",
       "      <th>years</th>\n",
       "      <th>generos_desenvuelto</th>\n",
       "      <th>elenco</th>\n",
       "    </tr>\n",
       "  </thead>\n",
       "  <tbody>\n",
       "    <tr>\n",
       "      <th>0</th>\n",
       "      <td>30000000.0</td>\n",
       "      <td>en</td>\n",
       "      <td>21.946943</td>\n",
       "      <td>373554033.0</td>\n",
       "      <td>81.0</td>\n",
       "      <td>7.7</td>\n",
       "      <td>5415.0</td>\n",
       "      <td>3.888157</td>\n",
       "      <td>John Lasseter</td>\n",
       "      <td>1995.0</td>\n",
       "      <td>Animation</td>\n",
       "      <td>Tom Hanks</td>\n",
       "    </tr>\n",
       "    <tr>\n",
       "      <th>46</th>\n",
       "      <td>33000000.0</td>\n",
       "      <td>en</td>\n",
       "      <td>18.457430</td>\n",
       "      <td>327311859.0</td>\n",
       "      <td>127.0</td>\n",
       "      <td>8.1</td>\n",
       "      <td>5915.0</td>\n",
       "      <td>4.068128</td>\n",
       "      <td>David Fincher</td>\n",
       "      <td>1995.0</td>\n",
       "      <td>Crime</td>\n",
       "      <td>Brad Pitt</td>\n",
       "    </tr>\n",
       "    <tr>\n",
       "      <th>108</th>\n",
       "      <td>72000000.0</td>\n",
       "      <td>en</td>\n",
       "      <td>20.755149</td>\n",
       "      <td>210000000.0</td>\n",
       "      <td>177.0</td>\n",
       "      <td>7.7</td>\n",
       "      <td>3404.0</td>\n",
       "      <td>4.016057</td>\n",
       "      <td>Mel Gibson</td>\n",
       "      <td>1995.0</td>\n",
       "      <td>Action</td>\n",
       "      <td>Mel Gibson</td>\n",
       "    </tr>\n",
       "    <tr>\n",
       "      <th>162</th>\n",
       "      <td>90000000.0</td>\n",
       "      <td>en</td>\n",
       "      <td>15.138855</td>\n",
       "      <td>366101666.0</td>\n",
       "      <td>128.0</td>\n",
       "      <td>6.9</td>\n",
       "      <td>2094.0</td>\n",
       "      <td>3.503524</td>\n",
       "      <td>John McTiernan</td>\n",
       "      <td>1995.0</td>\n",
       "      <td>Action</td>\n",
       "      <td>Bruce Willis</td>\n",
       "    </tr>\n",
       "    <tr>\n",
       "      <th>205</th>\n",
       "      <td>175000000.0</td>\n",
       "      <td>en</td>\n",
       "      <td>16.885184</td>\n",
       "      <td>264218220.0</td>\n",
       "      <td>135.0</td>\n",
       "      <td>5.9</td>\n",
       "      <td>1017.0</td>\n",
       "      <td>2.862219</td>\n",
       "      <td>Kevin Reynolds</td>\n",
       "      <td>1995.0</td>\n",
       "      <td>Adventure</td>\n",
       "      <td>Kevin Costner</td>\n",
       "    </tr>\n",
       "  </tbody>\n",
       "</table>\n",
       "</div>"
      ],
      "text/plain": [
       "          budget original_language  popularity      revenue  runtime  \\\n",
       "0     30000000.0                en   21.946943  373554033.0     81.0   \n",
       "46    33000000.0                en   18.457430  327311859.0    127.0   \n",
       "108   72000000.0                en   20.755149  210000000.0    177.0   \n",
       "162   90000000.0                en   15.138855  366101666.0    128.0   \n",
       "205  175000000.0                en   16.885184  264218220.0    135.0   \n",
       "\n",
       "     vote_average  vote_count    rating        director   years  \\\n",
       "0             7.7      5415.0  3.888157   John Lasseter  1995.0   \n",
       "46            8.1      5915.0  4.068128   David Fincher  1995.0   \n",
       "108           7.7      3404.0  4.016057      Mel Gibson  1995.0   \n",
       "162           6.9      2094.0  3.503524  John McTiernan  1995.0   \n",
       "205           5.9      1017.0  2.862219  Kevin Reynolds  1995.0   \n",
       "\n",
       "    generos_desenvuelto         elenco  \n",
       "0             Animation      Tom Hanks  \n",
       "46                Crime      Brad Pitt  \n",
       "108              Action     Mel Gibson  \n",
       "162              Action   Bruce Willis  \n",
       "205           Adventure  Kevin Costner  "
      ]
     },
     "execution_count": 70,
     "metadata": {},
     "output_type": "execute_result"
    }
   ],
   "source": [
    "df4[kmeans.labels_==0].head()"
   ]
  },
  {
   "cell_type": "markdown",
   "metadata": {},
   "source": [
    "Busquemos qué relación es la que tienen estas películas. Veamos como estan la distribucion de géneros"
   ]
  },
  {
   "cell_type": "code",
   "execution_count": 71,
   "metadata": {},
   "outputs": [
    {
     "data": {
      "text/plain": [
       "Drama          87\n",
       "Comedy         65\n",
       "Action         41\n",
       "Documentary    27\n",
       "Adventure      21\n",
       "Name: generos_desenvuelto, dtype: int64"
      ]
     },
     "execution_count": 71,
     "metadata": {},
     "output_type": "execute_result"
    }
   ],
   "source": [
    "df4[kmeans.labels_==0].generos_desenvuelto.value_counts().head()"
   ]
  },
  {
   "cell_type": "code",
   "execution_count": 72,
   "metadata": {
    "scrolled": true
   },
   "outputs": [
    {
     "data": {
      "text/plain": [
       "Drama          617\n",
       "Comedy         505\n",
       "Action         328\n",
       "Horror         159\n",
       "Documentary    147\n",
       "Name: generos_desenvuelto, dtype: int64"
      ]
     },
     "execution_count": 72,
     "metadata": {},
     "output_type": "execute_result"
    }
   ],
   "source": [
    "df4[kmeans.labels_==1].generos_desenvuelto.value_counts().head()"
   ]
  },
  {
   "cell_type": "code",
   "execution_count": 73,
   "metadata": {},
   "outputs": [
    {
     "data": {
      "text/plain": [
       "Drama        726\n",
       "Comedy       532\n",
       "Action       296\n",
       "Horror       138\n",
       "Adventure    132\n",
       "Name: generos_desenvuelto, dtype: int64"
      ]
     },
     "execution_count": 73,
     "metadata": {},
     "output_type": "execute_result"
    }
   ],
   "source": [
    "df4[kmeans.labels_==2].generos_desenvuelto.value_counts().head()"
   ]
  },
  {
   "cell_type": "markdown",
   "metadata": {},
   "source": [
    "Hace un momento nos interesó predecir el revenue, veamos cuánto es en media por cada clúster."
   ]
  },
  {
   "cell_type": "code",
   "execution_count": 74,
   "metadata": {},
   "outputs": [
    {
     "name": "stdout",
     "output_type": "stream",
     "text": [
      "Clúster 0: 553732047.7077364\n",
      "Clúster 1: 56506140.9118528\n",
      "Clúster 2: 58528019.5855026\n"
     ]
    }
   ],
   "source": [
    "print(\"Clúster 0:\",df4[kmeans.labels_==0].revenue.mean())\n",
    "print(\"Clúster 1:\",df4[kmeans.labels_==1].revenue.mean())\n",
    "print(\"Clúster 2:\",df4[kmeans.labels_==2].revenue.mean())"
   ]
  },
  {
   "cell_type": "markdown",
   "metadata": {},
   "source": [
    "Lo princimal que se observa es que el clúster 0 tiene mayor ingreso (revenue). Es decir que nosotro ingresamos los datos para una nueva película y si esta resulta que está en el clúste 0 podríamos decir que tendría un revenue (ingreso) alto.\n",
    "    "
   ]
  },
  {
   "cell_type": "markdown",
   "metadata": {},
   "source": [
    "## Usando Cluster JERÁRQUICO"
   ]
  },
  {
   "cell_type": "code",
   "execution_count": 75,
   "metadata": {
    "scrolled": true
   },
   "outputs": [],
   "source": [
    "# Como también se buscan distancias en este algoritmo usaremos la data normalizada.\n",
    "from sklearn.cluster import AgglomerativeClustering\n",
    "clustering = AgglomerativeClustering(n_clusters=3).fit(df_num_norm)"
   ]
  },
  {
   "cell_type": "markdown",
   "metadata": {},
   "source": [
    "Veamos la distribución de cada clúster. Estos estan en tanto por ciento"
   ]
  },
  {
   "cell_type": "code",
   "execution_count": 76,
   "metadata": {
    "scrolled": true
   },
   "outputs": [
    {
     "data": {
      "text/plain": [
       "0    60.312560\n",
       "2    35.269149\n",
       "1     4.418291\n",
       "Name: 0, dtype: float64"
      ]
     },
     "execution_count": 76,
     "metadata": {},
     "output_type": "execute_result"
    }
   ],
   "source": [
    "# (pd.DataFrame(clustering.labels_))[0].value_counts()\n",
    "(pd.DataFrame(clustering.labels_))[0].value_counts()/len(df4.index)*100"
   ]
  },
  {
   "cell_type": "markdown",
   "metadata": {},
   "source": [
    "Notamos que tenenmos una clase que tieneun gran porcentaje (el de la clase 0). A diferencia de cuando se usó el algoritmo de KMeans en este caso las clases todas están en distinta proporción, en el anterior caso 2 clases estaban en igual proporción.\n",
    "\n",
    "Veamos el revenue para estos clúster."
   ]
  },
  {
   "cell_type": "code",
   "execution_count": 77,
   "metadata": {},
   "outputs": [
    {
     "name": "stdout",
     "output_type": "stream",
     "text": [
      "Clúster 0: 79739445.44273832\n",
      "Clúster 1: 672921923.139738\n",
      "Clúster 2: 37246812.91739606\n"
     ]
    }
   ],
   "source": [
    "print(\"Clúster 0:\",df4[clustering.labels_==0].revenue.mean())\n",
    "print(\"Clúster 1:\",df4[clustering.labels_==1].revenue.mean())\n",
    "print(\"Clúster 2:\",df4[clustering.labels_==2].revenue.mean())"
   ]
  },
  {
   "cell_type": "markdown",
   "metadata": {},
   "source": [
    "En este caso el clúster 1 es el que tienen mayor revenue. Es decir que cuando se haga una predicción lo que se busca es que este caiga en dicho clúster para así tener más ingreso (revenue)."
   ]
  },
  {
   "cell_type": "markdown",
   "metadata": {},
   "source": [
    "## Usando modelo basado en DENSIDAD"
   ]
  },
  {
   "cell_type": "markdown",
   "metadata": {},
   "source": [
    "Hasta el momento hemos asumido que los clúster se forma por la cercanía que las distintas observaciones tienen. Ahora pasemos a asumir que los clúteres se forman por la conectividad que tienen las observaciones.\n",
    "\n",
    "Se ursará el DBSCAN. Como se busca cercaní en puntos tambien usaremos la data normalizada."
   ]
  },
  {
   "cell_type": "code",
   "execution_count": 78,
   "metadata": {},
   "outputs": [
    {
     "data": {
      "text/plain": [
       " 0    5156\n",
       "-1      21\n",
       " 3       2\n",
       " 2       2\n",
       " 1       2\n",
       "Name: 0, dtype: int64"
      ]
     },
     "execution_count": 78,
     "metadata": {},
     "output_type": "execute_result"
    }
   ],
   "source": [
    "from sklearn.cluster import DBSCAN\n",
    "clustering = DBSCAN(eps=3, min_samples=2).fit(df_num_norm)\n",
    "pd.DataFrame(clustering.labels_)[0].value_counts()"
   ]
  },
  {
   "cell_type": "markdown",
   "metadata": {},
   "source": [
    "Para la toma de estos parámetros eps=3 y min_samples=2 se tienen 21 outliers"
   ]
  },
  {
   "cell_type": "markdown",
   "metadata": {},
   "source": [
    "# Conclusiones"
   ]
  },
  {
   "cell_type": "markdown",
   "metadata": {},
   "source": [
    "-Es muy importante la limpiza de mis datos para no tener error en mi entrenamiento.\n",
    "\n",
    "-Cuando se buscó predecir el ingreso (revenue) de una película se obtuvo un score de 67% el cual puede ser mejorado. Pero se enfocó en el uso de todos los modelos.\n",
    "\n",
    "-Cuando se buscó predecir a qué categoría (género) pertenece una película se llego a que cuando se usó DecisionTreeClassifier se llegó a que el modelo se adecuó perfectamente a mis datos y esto es debido en parte a que se usó el one hot encoding (dummy). Igual se bajó la varianza para hacer mi modelo menos complicado.\n",
    "\n",
    "-Cuando se hace el agrupamento por clúster llegamos a la conclusión que hay clases en las cuales nos convienen que mi película estén ya que así mi película obtendrá un mayor ingreso (revenue)"
   ]
  },
  {
   "cell_type": "code",
   "execution_count": null,
   "metadata": {},
   "outputs": [],
   "source": []
  }
 ],
 "metadata": {
  "kernelspec": {
   "display_name": "Python 3",
   "language": "python",
   "name": "python3"
  },
  "language_info": {
   "codemirror_mode": {
    "name": "ipython",
    "version": 3
   },
   "file_extension": ".py",
   "mimetype": "text/x-python",
   "name": "python",
   "nbconvert_exporter": "python",
   "pygments_lexer": "ipython3",
   "version": "3.7.4"
  },
  "latex_envs": {
   "LaTeX_envs_menu_present": true,
   "autoclose": false,
   "autocomplete": true,
   "bibliofile": "biblio.bib",
   "cite_by": "apalike",
   "current_citInitial": 1,
   "eqLabelWithNumbers": true,
   "eqNumInitial": 1,
   "hotkeys": {
    "equation": "Ctrl-E",
    "itemize": "Ctrl-I"
   },
   "labels_anchors": false,
   "latex_user_defs": false,
   "report_style_numbering": false,
   "user_envs_cfg": false
  },
  "toc": {
   "base_numbering": 1,
   "nav_menu": {},
   "number_sections": true,
   "sideBar": true,
   "skip_h1_title": false,
   "title_cell": "Table of Contents",
   "title_sidebar": "Contents",
   "toc_cell": false,
   "toc_position": {},
   "toc_section_display": true,
   "toc_window_display": false
  },
  "varInspector": {
   "cols": {
    "lenName": 16,
    "lenType": 16,
    "lenVar": 40
   },
   "kernels_config": {
    "python": {
     "delete_cmd_postfix": "",
     "delete_cmd_prefix": "del ",
     "library": "var_list.py",
     "varRefreshCmd": "print(var_dic_list())"
    },
    "r": {
     "delete_cmd_postfix": ") ",
     "delete_cmd_prefix": "rm(",
     "library": "var_list.r",
     "varRefreshCmd": "cat(var_dic_list()) "
    }
   },
   "oldHeight": 339.79999999999995,
   "position": {
    "height": "40px",
    "left": "737.2px",
    "right": "20px",
    "top": "2px",
    "width": "350px"
   },
   "types_to_exclude": [
    "module",
    "function",
    "builtin_function_or_method",
    "instance",
    "_Feature"
   ],
   "varInspector_section_display": "none",
   "window_display": true
  }
 },
 "nbformat": 4,
 "nbformat_minor": 2
}
